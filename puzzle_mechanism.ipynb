{
 "cells": [
  {
   "cell_type": "markdown",
   "metadata": {},
   "source": [
    "### Permutation mechanism\n",
    "\n",
    "This notebook implements the mechanism of a \"move\", and reverse of a move\n",
    "\n",
    "It also goes through the examples and validates that all solutions are correct.\n",
    "\n",
    "We also try to optimize a little bit so that each step is fast."
   ]
  },
  {
   "cell_type": "code",
   "execution_count": 2,
   "metadata": {},
   "outputs": [],
   "source": [
    "import json\n",
    "import copy\n",
    "\n",
    "import numpy as np\n",
    "import pandas as pd\n",
    "\n",
    "import matplotlib.pyplot as plt"
   ]
  },
  {
   "cell_type": "code",
   "execution_count": 3,
   "metadata": {},
   "outputs": [],
   "source": [
    "# load each puzzle and their moves\n",
    "puzzle_actions = {}\n",
    "puzzle_info_ndarray = pd.read_csv(\"./puzzles/puzzle_info.csv\").to_numpy()\n",
    "for puzzle_name, moves in puzzle_info_ndarray:\n",
    "    puzzle_actions[puzzle_name] = json.loads(moves.replace(\"'\", '\"'))\n",
    "\n",
    "# load all the puzzle's start and end positions\n",
    "puzzles_df = pd.read_csv(\"./puzzles/puzzles.csv\").to_numpy()\n",
    "\n",
    "# load sample solutions\n",
    "# sample_submission_df = pd.read_csv(\"./puzzles/sample_submission.csv\").to_numpy()\n",
    "sample_submission_df = pd.read_csv(\"./solutions/greedy_cubes.csv\").to_numpy()"
   ]
  },
  {
   "cell_type": "code",
   "execution_count": null,
   "metadata": {},
   "outputs": [],
   "source": [
    "def reverse(move):\n",
    "    \"\"\"returns the reversed permutation\"\"\"\n",
    "    reversed_move = move[:]\n",
    "    for i, j in enumerate(move):\n",
    "        reversed_move[j] = i\n",
    "    return reversed_move\n",
    "\n",
    "\n",
    "def permute(state, move):\n",
    "    \"\"\"returns new state after move is performed\"\"\"\n",
    "    assert len(state) == len(move)\n",
    "    new_state = state[:]\n",
    "    for i, j in enumerate(move):\n",
    "        new_state[i] = state[j]\n",
    "    return new_state\n",
    "\n",
    "\n",
    "def reduce(move):\n",
    "    \"\"\"reduces a move to a tuple, of a list of (end, start)\"\"\"\n",
    "    reduced_move = []\n",
    "    for i, j in enumerate(move):\n",
    "        if i != j:\n",
    "            reduced_move.append((i, j))\n",
    "\n",
    "    return reduced_move\n",
    "\n",
    "\n",
    "def permute_with_reduced_move(state, reduced_move):\n",
    "    new_state = state[:]\n",
    "    for i, j in reduced_move:\n",
    "        new_state[i] = state[j]\n",
    "    return new_state\n",
    "\n",
    "\n",
    "def is_valid_final_state(state, final_state, num_wild):\n",
    "    assert len(state) == len(final_state)\n",
    "    diff_count = 0\n",
    "    for a, b in zip(state, final_state):\n",
    "        if a != b:\n",
    "            diff_count += 1\n",
    "\n",
    "    return diff_count <= num_wild\n",
    "\n",
    "\n",
    "reduced_actions = {pname: {} for pname in puzzle_actions.keys()}\n",
    "\n",
    "# add reversed actions all the possible actions\n",
    "for puzzle_name, actions in puzzle_actions.items():\n",
    "    reversed_actions = {}\n",
    "    for action_name, action in actions.items():\n",
    "        reversed_actions[f\"-{action_name}\"] = reverse(action)\n",
    "    puzzle_actions[puzzle_name].update(reversed_actions)\n",
    "\n",
    "# get reduced actions\n",
    "for puzzle_name, actions in puzzle_actions.items():\n",
    "    for action_name, action in actions.items():\n",
    "        reduced_actions[puzzle_name][action_name] = reduce(action)\n",
    "\n",
    "NUM_WRONGS = 0\n",
    "# play through all the sample submission moves to validate\n",
    "for puzzle in puzzles_df:\n",
    "    i, pname, end_state, start_state, num_wild = puzzle\n",
    "    start_state = start_state.split(\";\")\n",
    "    end_state = end_state.split(\";\")\n",
    "\n",
    "    # get sample solution\n",
    "    moves = sample_submission_df[i][1].split(\".\")\n",
    "\n",
    "    # get action space\n",
    "    actions = puzzle_actions[pname]\n",
    "    actions = reduced_actions[pname]\n",
    "\n",
    "    curr_state = start_state\n",
    "    # play through the submitted actions\n",
    "    for move_name in moves:\n",
    "        move = actions[move_name]\n",
    "        # curr_state = permute(curr_state, move)\n",
    "        curr_state = permute_with_reduced_move(curr_state, move)\n",
    "\n",
    "    if is_valid_final_state(curr_state, end_state, num_wild):\n",
    "        print(f\"validated puzzle {i} on {pname} with {len(moves)} moves\")\n",
    "    else:\n",
    "        NUM_WRONGS += 1\n",
    "        print(f\"Puzzle {i} FAILED\")\n",
    "\n",
    "print(f'Failed on {NUM_WRONGS} puzzles')"
   ]
  },
  {
   "cell_type": "code",
   "execution_count": 19,
   "metadata": {},
   "outputs": [
    {
     "data": {
      "text/plain": [
       "['r1', '-f1']"
      ]
     },
     "execution_count": 19,
     "metadata": {},
     "output_type": "execute_result"
    }
   ],
   "source": [
    "moves = sample_submission_df[0][1].split(\".\")\n",
    "moves"
   ]
  },
  {
   "cell_type": "code",
   "execution_count": null,
   "metadata": {},
   "outputs": [],
   "source": []
  }
 ],
 "metadata": {
  "kernelspec": {
   "display_name": "base",
   "language": "python",
   "name": "python3"
  },
  "language_info": {
   "codemirror_mode": {
    "name": "ipython",
    "version": 3
   },
   "file_extension": ".py",
   "mimetype": "text/x-python",
   "name": "python",
   "nbconvert_exporter": "python",
   "pygments_lexer": "ipython3",
   "version": "3.10.13"
  }
 },
 "nbformat": 4,
 "nbformat_minor": 2
}
