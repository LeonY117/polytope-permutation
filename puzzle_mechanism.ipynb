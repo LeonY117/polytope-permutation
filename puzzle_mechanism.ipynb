{
 "cells": [
  {
   "cell_type": "markdown",
   "metadata": {},
   "source": [
    "### Permutation mechanism\n",
    "\n",
    "This notebook implements the mechanism of a \"move\", and reverse of a move\n",
    "\n",
    "It also goes through the examples and validates that all solutions are correct.\n",
    "\n",
    "We also try to optimize a little bit so that each step is fast."
   ]
  },
  {
   "cell_type": "code",
   "execution_count": 1,
   "metadata": {},
   "outputs": [],
   "source": [
    "import json\n",
    "import copy\n",
    "\n",
    "import numpy as np\n",
    "import pandas as pd\n",
    "\n",
    "import matplotlib.pyplot as plt\n",
    "from tqdm import tqdm"
   ]
  },
  {
   "cell_type": "code",
   "execution_count": 2,
   "metadata": {},
   "outputs": [],
   "source": [
    "# load each puzzle and their moves\n",
    "puzzle_actions = {}\n",
    "puzzle_info_arr = pd.read_csv(\"./puzzles/puzzle_info.csv\").to_numpy()\n",
    "for puzzle_name, moves in puzzle_info_arr:\n",
    "    puzzle_actions[puzzle_name] = json.loads(moves.replace(\"'\", '\"'))\n",
    "\n",
    "# load all the puzzle's start and end positions\n",
    "puzzles_arr = pd.read_csv(\"./puzzles/puzzles.csv\").to_numpy()\n",
    "\n",
    "# load sample solutions\n",
    "# sample_submission_arr = pd.read_csv(\"./puzzles/sample_submission.csv\").to_numpy()\n",
    "sample_submission_arr = pd.read_csv(\"./solutions/greedy_all.csv\").to_numpy()"
   ]
  },
  {
   "cell_type": "code",
   "execution_count": 4,
   "metadata": {},
   "outputs": [],
   "source": [
    "from src.mechanism.permute import permute, permute_with_swap, perm_to_swap, reverse_perm\n",
    "from src.mechanism.utils import diff_between_states, is_valid_final_state"
   ]
  },
  {
   "cell_type": "code",
   "execution_count": 5,
   "metadata": {},
   "outputs": [
    {
     "name": "stderr",
     "output_type": "stream",
     "text": [
      "100%|██████████| 398/398 [00:13<00:00, 29.03it/s]  "
     ]
    },
    {
     "name": "stdout",
     "output_type": "stream",
     "text": [
      "Failed on 0 puzzles\n"
     ]
    },
    {
     "name": "stderr",
     "output_type": "stream",
     "text": [
      "\n"
     ]
    }
   ],
   "source": [
    "reduced_actions = {pname: {} for pname in puzzle_actions.keys()}\n",
    "\n",
    "# add reversed actions all the possible actions\n",
    "for puzzle_name, actions in puzzle_actions.items():\n",
    "    reversed_actions = {}\n",
    "    for action_name, action in actions.items():\n",
    "        reversed_actions[f\"-{action_name}\"] = reverse_perm(action)\n",
    "    puzzle_actions[puzzle_name].update(reversed_actions)\n",
    "\n",
    "# get reduced actions\n",
    "for puzzle_name, actions in puzzle_actions.items():\n",
    "    for action_name, action in actions.items():\n",
    "        reduced_actions[puzzle_name][action_name] = perm_to_swap(action)\n",
    "\n",
    "NUM_WRONGS = 0\n",
    "# play through all the sample submission moves to validate\n",
    "for puzzle in tqdm(puzzles_arr):\n",
    "    i, pname, end_state, start_state, num_wild = puzzle\n",
    "    start_state = start_state.split(\";\")\n",
    "    end_state = end_state.split(\";\")\n",
    "\n",
    "    # get sample solution\n",
    "    moves = sample_submission_arr[i][1].split(\".\")\n",
    "\n",
    "    # get action space\n",
    "    actions = puzzle_actions[pname]\n",
    "    actions = reduced_actions[pname]\n",
    "\n",
    "    curr_state = start_state\n",
    "    # play through the submitted actions\n",
    "    for move_name in moves:\n",
    "        move = actions[move_name]\n",
    "        # curr_state = permute(curr_state, move)\n",
    "        curr_state = permute_with_swap(curr_state, move)\n",
    "\n",
    "    if is_valid_final_state(curr_state, end_state, num_wild):\n",
    "        # print(f\"validated puzzle {i} on {pname} with {len(moves)} moves\")\n",
    "        pass\n",
    "    else:\n",
    "        NUM_WRONGS += 1\n",
    "        print(f\"Puzzle {i} FAILED\")\n",
    "\n",
    "print(f\"Failed on {NUM_WRONGS} puzzles\")"
   ]
  },
  {
   "cell_type": "code",
   "execution_count": 19,
   "metadata": {},
   "outputs": [
    {
     "data": {
      "text/plain": [
       "['r1', '-f1']"
      ]
     },
     "execution_count": 19,
     "metadata": {},
     "output_type": "execute_result"
    }
   ],
   "source": [
    "moves = sample_submission_arr[0][1].split(\".\")\n",
    "moves"
   ]
  },
  {
   "cell_type": "code",
   "execution_count": 29,
   "metadata": {},
   "outputs": [
    {
     "name": "stdout",
     "output_type": "stream",
     "text": [
      "8\n",
      "[0, 1, 2, 3, 4, 5, 6, 7, 8, 9, 10, 11, 12, 13, 14, 15, 16, 17, 18, 19, 20, 21, 22, 23, 24, 25, 26, 27, 28, 29, 30, 31]\n",
      "[0, 1, 2, 3, 4, 5, 6, 7, 8, 9, 10, 11, 12, 13, 14, 15, 16, 17, 18, 19, 20, 21, 22, 23, 24, 25, 26, 27, 28, 29, 30, 31]\n",
      "1,2,3,4,5,6,7,0,8,9,10,11,12,13,14,15,16,17,18,19,20,21,22,23,24,25,26,27,28,29,30,31\n",
      "7,0,1,2,3,4,5,6,8,9,10,11,12,13,14,15,16,17,18,19,20,21,22,23,24,25,26,27,28,29,30,31\n"
     ]
    }
   ],
   "source": [
    "globe = \"globe_3/4\"\n",
    "state = list(range(len(puzzle_actions[globe][\"r1\"])))\n",
    "move = puzzle_actions[globe][\"r0\"]\n",
    "\n",
    "start = state[:]\n",
    "state = permute(state, move)\n",
    "c = 1\n",
    "while start != state:\n",
    "    state = permute(state, move)\n",
    "    c += 1\n",
    "\n",
    "print(c)\n",
    "print(state)\n",
    "print(start)\n",
    "\n",
    "print(\",\".join([str(n) for n in puzzle_actions[\"globe_3/4\"][\"r0\"]]))\n",
    "print(\",\".join([str(n) for n in puzzle_actions[\"globe_3/4\"][\"-r0\"]]))"
   ]
  },
  {
   "cell_type": "code",
   "execution_count": 31,
   "metadata": {},
   "outputs": [
    {
     "data": {
      "text/plain": [
       "['globe_3', '33']"
      ]
     },
     "execution_count": 31,
     "metadata": {},
     "output_type": "execute_result"
    }
   ],
   "source": [
    "'globe_3/33'.split('/')"
   ]
  }
 ],
 "metadata": {
  "kernelspec": {
   "display_name": "base",
   "language": "python",
   "name": "python3"
  },
  "language_info": {
   "codemirror_mode": {
    "name": "ipython",
    "version": 3
   },
   "file_extension": ".py",
   "mimetype": "text/x-python",
   "name": "python",
   "nbconvert_exporter": "python",
   "pygments_lexer": "ipython3",
   "version": "3.10.13"
  }
 },
 "nbformat": 4,
 "nbformat_minor": 2
}
