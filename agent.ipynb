{
 "cells": [
  {
   "cell_type": "code",
   "execution_count": 1,
   "metadata": {},
   "outputs": [],
   "source": [
    "import torch \n",
    "from torch import nn, optim\n",
    "import numpy as np\n",
    "\n",
    "import matplotlib.pyplot as plt\n",
    "from tqdm import tqdm\n",
    "\n",
    "from typing import List"
   ]
  },
  {
   "cell_type": "code",
   "execution_count": 2,
   "metadata": {},
   "outputs": [],
   "source": [
    "from src.env import PuzzleEnv"
   ]
  },
  {
   "cell_type": "markdown",
   "metadata": {},
   "source": [
    "For DQN we'll use a simple FFN similar to dist_predictor"
   ]
  },
  {
   "cell_type": "code",
   "execution_count": 3,
   "metadata": {},
   "outputs": [],
   "source": [
    "class DQN(nn.Module):\n",
    "    def __init__(self, inp: int, oup: int, units: List[int]):\n",
    "        # TODO: we can optionally add normalization layers\n",
    "        super().__init__()\n",
    "        layers = []\n",
    "        prev = inp\n",
    "        for num_units in units:\n",
    "            layers.append(nn.Linear(prev, num_units))\n",
    "            layers.append(nn.ReLU())\n",
    "            prev = num_units\n",
    "\n",
    "        layers.append(nn.Linear(units[-1], oup))\n",
    "\n",
    "        self.layers = nn.Sequential(*layers)\n",
    "\n",
    "    def forward(self, x):\n",
    "        return self.layers(x)\n",
    "\n",
    "\n",
    "# net = DQN(inp=env.state_size, oup=env.num_actions, units=[128, 128])"
   ]
  },
  {
   "cell_type": "code",
   "execution_count": 88,
   "metadata": {},
   "outputs": [],
   "source": [
    "class Agent:\n",
    "    def __init__(self, config):\n",
    "        self._load(config)\n",
    "\n",
    "    def _load(self, config):\n",
    "        self.batch_size = config[\"batch_size\"]\n",
    "        self.gamma = config[\"gamma\"]\n",
    "        self.epsilon = config[\"epsilon\"]\n",
    "        self.tau = config[\"tau\"]\n",
    "        self.lr = config[\"lr\"]\n",
    "        self.total_steps = config[\"total_steps\"]\n",
    "\n",
    "        inp, oup, network_units = (\n",
    "            config[\"inp\"],\n",
    "            config[\"oup\"],\n",
    "            config[\"network_units\"],\n",
    "        )\n",
    "        self.policy_network = DQN(inp, oup, network_units)\n",
    "        self.target_network = DQN(inp, oup, network_units)\n",
    "        self.target_network.load_state_dict(self.policy_network.state_dict())\n",
    "\n",
    "        self.num_states, self.num_actions = inp, oup\n",
    "\n",
    "        self.optimizer = optim.AdamW(\n",
    "            self.policy_network.parameters(), lr=self.lr, amsgrad=True\n",
    "        )\n",
    "        self.criterion = nn.SmoothL1Loss()\n",
    "\n",
    "    def select_action(self, states, greedy=False):\n",
    "        \"\"\"Selects epsilon greedy action\"\"\"\n",
    "        eps = 0 if greedy else self.epsilon\n",
    "        n = len(states)\n",
    "        s = torch.rand(n)\n",
    "        rand_actions = torch.randint(0, self.num_actions, (n,))\n",
    "        with torch.no_grad():\n",
    "            Q = self.policy_network(states)\n",
    "            greedy_actions = torch.argmax(Q, dim=-1)\n",
    "\n",
    "        return torch.where(s > eps, greedy_actions, rand_actions)\n",
    "\n",
    "    def optimize(self, s, a, r, s_n, mask):\n",
    "        with torch.no_grad():\n",
    "            max_Q_s_n = self.policy_network(s_n).max(axis=-1).values\n",
    "\n",
    "        max_Q_s_n = torch.where(mask == 1, torch.zeros_like(max_Q_s_n), max_Q_s_n)\n",
    "        # r + gamma * max[Q(s', a)]\n",
    "        target = r + self.gamma * max_Q_s_n\n",
    "\n",
    "        # Q(s, a)\n",
    "        Q = self.policy_network(s).gather(1, a.unsqueeze(-1))\n",
    "\n",
    "        loss = self.criterion(Q, target.unsqueeze(-1))\n",
    "        # apply mask on loss\n",
    "        # loss = torch.where(mask == 1, torch.zeros_like(loss), loss).sum()\n",
    "\n",
    "        self.optimizer.zero_grad()\n",
    "        loss.backward()\n",
    "        # In-place gradient clipping\n",
    "        torch.nn.utils.clip_grad_value_(self.policy_network.parameters(), 100)\n",
    "        self.optimizer.step()\n",
    "\n",
    "    def update_target_net(self) -> None:\n",
    "        target_sd = self.target_network.state_dict()\n",
    "        policy_sd = self.policy_network.state_dict()\n",
    "\n",
    "        # Soft update of the target network's weights\n",
    "        # θ′ ← τ θ + (1 −τ )θ′\n",
    "        for key in policy_sd:\n",
    "            target_sd[key] = policy_sd[key] * self.tau + target_sd[key] * (1 - self.tau)\n",
    "        self.target_network.load_state_dict(target_sd)"
   ]
  },
  {
   "cell_type": "code",
   "execution_count": 102,
   "metadata": {},
   "outputs": [
    {
     "name": "stdout",
     "output_type": "stream",
     "text": [
      "Loaded cube_2x2x2: 12 actions, 24 states\n"
     ]
    }
   ],
   "source": [
    "env_config = {\n",
    "    \"puzzle_name\": \"cube_2x2x2\",\n",
    "    \"num_envs\": 256,\n",
    "    \"max_steps\": 10,\n",
    "    \"reset_config\": {\n",
    "        \"sampler\": \"uniform\",\n",
    "        \"shuffle_range\": [1, 3],\n",
    "    },\n",
    "    \"reward_config\": {\n",
    "        \"success\": \"dynamic\",\n",
    "        \"time\": -1,\n",
    "    },\n",
    "    \"state_repr\": \"color\",\n",
    "}\n",
    "\n",
    "env = PuzzleEnv(env_config)\n",
    "\n",
    "agent_config = {\n",
    "    \"total_steps\": 1000,\n",
    "    \"inp\": env.state_size,\n",
    "    \"oup\": env.num_actions,\n",
    "    \"batch_size\": env.num_envs,\n",
    "    \"gamma\": 0.99,\n",
    "    \"epsilon_schedule\": \"constant\",\n",
    "    \"epsilon\": 0.05,\n",
    "    \"tau\": 0.005,\n",
    "    \"lr\": 1e-4,\n",
    "    \"optimizer\": \"adam\",\n",
    "    \"network_units\": [128, 128],\n",
    "}"
   ]
  },
  {
   "cell_type": "code",
   "execution_count": 103,
   "metadata": {},
   "outputs": [
    {
     "name": "stdout",
     "output_type": "stream",
     "text": [
      "Loaded cube_2x2x2: 12 actions, 24 states\n"
     ]
    },
    {
     "name": "stderr",
     "output_type": "stream",
     "text": [
      "  0%|          | 0/1000 [00:00<?, ?it/s]"
     ]
    },
    {
     "name": "stderr",
     "output_type": "stream",
     "text": [
      "/var/folders/b3/1nq2fltd3b107npdpx4hdm_r0000gn/T/ipykernel_55488/2588174468.py:9: UserWarning: To copy construct from a tensor, it is recommended to use sourceTensor.clone().detach() or sourceTensor.clone().detach().requires_grad_(True), rather than torch.tensor(sourceTensor).\n",
      "  s = torch.tensor(s, device=\"cpu\")\n",
      "100%|██████████| 1000/1000 [00:02<00:00, 384.50it/s]"
     ]
    },
    {
     "name": "stdout",
     "output_type": "stream",
     "text": [
      "0.12499999999511718\n",
      "0.10895312499287532\n"
     ]
    },
    {
     "name": "stderr",
     "output_type": "stream",
     "text": [
      "\n"
     ]
    }
   ],
   "source": [
    "env = PuzzleEnv(env_config)\n",
    "agent = Agent(agent_config)\n",
    "\n",
    "reward_history = []\n",
    "success_history = []\n",
    "\n",
    "s = env.reset()\n",
    "for _ in tqdm(range(1000)):\n",
    "    s = torch.tensor(s, device=\"cpu\")\n",
    "    a = agent.select_action(s)\n",
    "\n",
    "    s_n, r, mask = env.step(a)\n",
    "    s_n = torch.tensor(s_n, device=\"cpu\")\n",
    "\n",
    "    agent.optimize(s, a, r, s_n, mask)\n",
    "\n",
    "    # agent.update_target_net()\n",
    "\n",
    "    reward_history.append(env.get_cumulative_reward().sum().item()/env.num_envs)\n",
    "    success_history.append(env.get_completion_rate())\n",
    "\n",
    "print(success_history[-1])\n",
    "print(sum(success_history) / len(success_history))"
   ]
  },
  {
   "cell_type": "code",
   "execution_count": 104,
   "metadata": {},
   "outputs": [
    {
     "data": {
      "text/plain": [
       "(0.0, 1.0)"
      ]
     },
     "execution_count": 104,
     "metadata": {},
     "output_type": "execute_result"
    },
    {
     "data": {
      "image/png": "[encoded data removed]",
      "text/plain": [
       "<Figure size 640x480 with 1 Axes>"
      ]
     },
     "metadata": {},
     "output_type": "display_data"
    }
   ],
   "source": [
    "plt.plot(success_history)\n",
    "plt.ylim(0, 1)"
   ]
  },
  {
   "cell_type": "code",
   "execution_count": 77,
   "metadata": {},
   "outputs": [
    {
     "data": {
      "text/plain": [
       "tensor([ -9.,  -7.,  -1.,  -6.,  -4.,  -1., -10.,  -2.,  -5.,  -4., -10., -10.,\n",
       "         -4., -10.,  -8.,  -8.,  -4.,  -4., -10.,  -9.,  -4.,  -4.,  -5.,  -9.,\n",
       "         -6.,  -8.,  -3.,  -6.,  -8.,  -4., -10.,  -2.,  -4.,  -7.,  -1.,  -9.,\n",
       "         -2.,  -5.,  -5.,  -5.,  -7.,  -2.,  -8.,  -9.,  -7.,  -2.,  -1., -10.,\n",
       "         -8.,  -7.,  -1.,  -6.,  -3.,  -2.,  -9.,  -3.,  -9.,  -1.,  -5.,  -6.,\n",
       "         -1.,  -6.,  -6.,  -6.,  -3.,  -5.,  -2.,  -3.,  -2.,  -1.,  -2.,  -8.,\n",
       "         -6.,  -8.,  -7.,  -3.,  -3.,  -4.,  -4.,  -3.,  -9.,  -8.,  -9.,  -1.,\n",
       "         -9.,  -7., -10.,  -4.,  -8.,  -2.,  -4.,  -8.,   9.,  -5., -10.,  -5.,\n",
       "         -5.,  -3.,  -8.,  -7.,  -6.,  -9.,  -9.,  -7.,  -5.,  -9.,  -8.,  -3.,\n",
       "         -5.,  -5.,  -3.,  -8.,  -1.,  -9.,  -8., -10.,  -5., -10.,   1.,  -1.,\n",
       "         -9.,  -5.,  -3.,  -2.,  -9.,  -2.,  -8.,  -3.,  -6.,  -4.,  -6., -10.,\n",
       "         -6.,  -9.,  -5.,  -9.,  -3.,  -3.,  -5.,  -9.,   9.,  -8.,  -7.,  -6.,\n",
       "        -10.,  -6.,  -6.,  -1.,  -3.,  -6.,  -8., -10.,  -8.,  -5.,  -4.,  -1.,\n",
       "         -4.,  -6.,  -7., -10.,  -1.,  -2.,  -3.,  -5.,  -7.,  -7.,  -1., -10.,\n",
       "         -2.,  -2.,  -9.,  -3.,  -2.,  -7.,  -5.,  -9.,  -9.,  -8.,  -5.,  -5.,\n",
       "         -4.,  -1.,  -4.,  -7.,  -1.,  -2.,  -5., -10.,  -9., -10.,  -5.,  -1.,\n",
       "         -3.,  -8.,  -3., -10.,  -7.,  -2.,  -9.,  -6.,  -9.,  -1.,  -9.,  -8.,\n",
       "        -10.,  -3.,  -6.,  -5.,  -3.,  -8.,  -6.,  -9.,  -5.,  -8.,  -5.,  -1.,\n",
       "         -1.,  -4.,  -9.,  -3.,  -7.,  -3.,  -7.,  -5.,  -6.,  -5.,  -5.,  -3.,\n",
       "         -2.,  -5.,  -1.,  -3.,  -7.,  -9.,  -5.,  -5.,  -2.,  -1.,  -1.,  -9.,\n",
       "         -8.,  -9.,  -1.,  -3.,  -5.,  -4.,  -9.,  -4.,  -4.,   9.,  -1.,  -7.,\n",
       "        -10.,  -8.,  -4.,  -4.])"
      ]
     },
     "execution_count": 77,
     "metadata": {},
     "output_type": "execute_result"
    }
   ],
   "source": [
    "env.get_cumulative_reward()"
   ]
  },
  {
   "cell_type": "code",
   "execution_count": 78,
   "metadata": {},
   "outputs": [
    {
     "data": {
      "text/plain": [
       "tensor([0., 0., 1., 0., 0., 1., 0., 0., 0., 0., 0., 0., 0., 0., 0., 0., 0., 0.,\n",
       "        0., 0., 0., 0., 0., 0., 0., 0., 0., 0., 0., 0., 0., 0., 0., 0., 1., 0.,\n",
       "        0., 0., 0., 0., 0., 0., 0., 0., 0., 0., 1., 0., 0., 0., 1., 0., 0., 0.,\n",
       "        0., 0., 0., 1., 0., 0., 1., 0., 0., 0., 0., 0., 0., 0., 0., 1., 0., 0.,\n",
       "        0., 0., 0., 0., 0., 0., 0., 0., 0., 0., 0., 1., 0., 0., 0., 0., 0., 0.,\n",
       "        0., 0., 1., 0., 0., 0., 0., 0., 0., 0., 0., 0., 0., 0., 0., 0., 0., 0.,\n",
       "        0., 0., 0., 0., 1., 0., 0., 0., 0., 0., 0., 1., 0., 0., 0., 0., 0., 0.,\n",
       "        0., 0., 0., 0., 0., 0., 0., 0., 0., 0., 0., 0., 0., 0., 1., 0., 0., 0.,\n",
       "        0., 0., 0., 1., 0., 0., 0., 0., 0., 0., 0., 1., 0., 0., 0., 0., 1., 0.,\n",
       "        0., 0., 0., 0., 1., 0., 0., 0., 0., 0., 0., 0., 0., 0., 0., 0., 0., 0.,\n",
       "        0., 1., 0., 0., 1., 0., 0., 0., 0., 0., 0., 1., 0., 0., 0., 0., 0., 0.,\n",
       "        0., 0., 0., 1., 0., 0., 0., 0., 0., 0., 0., 0., 0., 0., 0., 0., 0., 1.,\n",
       "        1., 0., 0., 0., 0., 0., 0., 0., 0., 0., 0., 0., 0., 0., 1., 0., 0., 0.,\n",
       "        0., 0., 0., 1., 1., 0., 0., 0., 1., 0., 0., 0., 0., 0., 0., 1., 1., 0.,\n",
       "        0., 0., 0., 0.])"
      ]
     },
     "execution_count": 78,
     "metadata": {},
     "output_type": "execute_result"
    }
   ],
   "source": [
    "mask"
   ]
  },
  {
   "cell_type": "code",
   "execution_count": null,
   "metadata": {},
   "outputs": [],
   "source": []
  },
  {
   "cell_type": "code",
   "execution_count": null,
   "metadata": {},
   "outputs": [],
   "source": []
  }
 ],
 "metadata": {
  "kernelspec": {
   "display_name": "rl",
   "language": "python",
   "name": "python3"
  },
  "language_info": {
   "codemirror_mode": {
    "name": "ipython",
    "version": 3
   },
   "file_extension": ".py",
   "mimetype": "text/x-python",
   "name": "python",
   "nbconvert_exporter": "python",
   "pygments_lexer": "ipython3",
   "version": "3.10.13"
  }
 },
 "nbformat": 4,
 "nbformat_minor": 2
}
