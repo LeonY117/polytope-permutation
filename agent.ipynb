{
 "cells": [
  {
   "cell_type": "code",
   "execution_count": 5,
   "metadata": {},
   "outputs": [],
   "source": [
    "import torch \n",
    "from torch import nn\n",
    "import numpy as np\n",
    "\n",
    "from typing import List"
   ]
  },
  {
   "cell_type": "code",
   "execution_count": 3,
   "metadata": {},
   "outputs": [
    {
     "name": "stdout",
     "output_type": "stream",
     "text": [
      "Loaded cube_2x2x2: 12 actions, 24 states\n"
     ]
    }
   ],
   "source": [
    "from src.env import PuzzleEnv\n",
    "\n",
    "env_config = {\n",
    "    \"puzzle_name\": \"cube_2x2x2\",\n",
    "    \"num_envs\": 10,\n",
    "    \"max_steps\": 20,\n",
    "    \"reset_config\": {\n",
    "        \"sampler\": \"uniform\",\n",
    "        \"shuffle_range\": [1, 5],\n",
    "    },\n",
    "    \"reward_config\": {\n",
    "        \"success\": \"dynamic\",\n",
    "        \"time\": -1,\n",
    "    },\n",
    "    \"state_repr\": \"color\",\n",
    "}\n",
    "\n",
    "env = PuzzleEnv(env_config)"
   ]
  },
  {
   "cell_type": "markdown",
   "metadata": {},
   "source": [
    "For DQN we'll use a simple FFN similar to dist_predictor"
   ]
  },
  {
   "cell_type": "code",
   "execution_count": 7,
   "metadata": {},
   "outputs": [],
   "source": [
    "class DQN(nn.Module):\n",
    "    def __init__(self, inp: int, oup: int, units: List[int]):\n",
    "        # TODO: we can optionally add normalization layers\n",
    "        super().__init__()\n",
    "        layers = []\n",
    "        prev = inp\n",
    "        for num_units in units:\n",
    "            layers.append(nn.Linear(prev, num_units))\n",
    "            layers.append(nn.ReLU())\n",
    "            prev = num_units\n",
    "\n",
    "        layers.append(nn.Linear(units[-1], oup))\n",
    "\n",
    "        self.layers = nn.Sequential(*layers)\n",
    "\n",
    "    def forward(self, x):\n",
    "        return self.layers(x)\n",
    "\n",
    "\n",
    "net = DQN(inp=env.state_size, oup=env.num_actions, units=[128, 128])"
   ]
  },
  {
   "cell_type": "code",
   "execution_count": 8,
   "metadata": {},
   "outputs": [
    {
     "data": {
      "text/plain": [
       "DQN(\n",
       "  (layers): Sequential(\n",
       "    (0): Linear(in_features=24, out_features=128, bias=True)\n",
       "    (1): ReLU()\n",
       "    (2): Linear(in_features=128, out_features=128, bias=True)\n",
       "    (3): ReLU()\n",
       "    (4): Linear(in_features=128, out_features=12, bias=True)\n",
       "  )\n",
       ")"
      ]
     },
     "execution_count": 8,
     "metadata": {},
     "output_type": "execute_result"
    }
   ],
   "source": [
    "net"
   ]
  }
 ],
 "metadata": {
  "kernelspec": {
   "display_name": "rl",
   "language": "python",
   "name": "python3"
  },
  "language_info": {
   "codemirror_mode": {
    "name": "ipython",
    "version": 3
   },
   "file_extension": ".py",
   "mimetype": "text/x-python",
   "name": "python",
   "nbconvert_exporter": "python",
   "pygments_lexer": "ipython3",
   "version": "3.10.13"
  }
 },
 "nbformat": 4,
 "nbformat_minor": 2
}
