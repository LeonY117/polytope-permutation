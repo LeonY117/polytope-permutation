{
 "cells": [
  {
   "cell_type": "markdown",
   "metadata": {},
   "source": [
    "## Environment \n",
    "\n",
    "We need to create our own environment\n",
    "\n",
    "Some basic methods:\n",
    "\n",
    "- `env.reset()`\n",
    "- `env.step(action)` -> observation, reward, terminated\n",
    "- `env.compute_reward()`\n",
    "- `env.compute_termination()`\n",
    "- `env.compute_next_state()`\n",
    "\n"
   ]
  },
  {
   "cell_type": "code",
   "execution_count": 1,
   "metadata": {},
   "outputs": [
    {
     "name": "stdout",
     "output_type": "stream",
     "text": [
      "Pretty printing has been turned OFF\n"
     ]
    }
   ],
   "source": [
    "%pprint"
   ]
  },
  {
   "cell_type": "code",
   "execution_count": 2,
   "metadata": {},
   "outputs": [],
   "source": [
    "import torch \n",
    "\n",
    "import numpy as np "
   ]
  },
  {
   "cell_type": "code",
   "execution_count": 3,
   "metadata": {},
   "outputs": [],
   "source": [
    "from src.mechanism.utils import load_puzzle, generate_state_from_moves, normalize_state\n",
    "from src.mechanism.reduce import iterate_reduce_sequence\n",
    "from src.mechanism.permute import permute_with_swap"
   ]
  },
  {
   "cell_type": "code",
   "execution_count": 4,
   "metadata": {},
   "outputs": [],
   "source": [
    "class Sampler:\n",
    "    def __init__(self) -> None:\n",
    "        pass\n",
    "\n",
    "    def sample(self) -> int:\n",
    "        pass\n",
    "\n",
    "\n",
    "class Uniform_sampler():\n",
    "    def __init__(self, low, high) -> None:\n",
    "        self.low = low\n",
    "        self.high = high\n",
    "\n",
    "    def sample(self, size) -> int:\n",
    "        return torch.randint(self.low, self.high, size)"
   ]
  },
  {
   "cell_type": "code",
   "execution_count": 8,
   "metadata": {},
   "outputs": [],
   "source": [
    "env_config = {\n",
    "    \"puzzle_name\": \"cube_3x3x3\",\n",
    "    \"num_envs\": 128,\n",
    "    \"max_steps\": 20,\n",
    "    \"reset_config\": {\n",
    "        \"sampler\": \"uniform\",\n",
    "        \"shuffle_range\": [1, 8],\n",
    "        \"extra_generation\": 12,\n",
    "    },\n",
    "    \"reward_config\": {\n",
    "        \"success\": 10,\n",
    "        \"time\": -0.1,\n",
    "    },\n",
    "    \"state_repr\": \"color\",\n",
    "}"
   ]
  },
  {
   "cell_type": "code",
   "execution_count": 9,
   "metadata": {},
   "outputs": [],
   "source": [
    "from src.env import PuzzleEnv"
   ]
  },
  {
   "cell_type": "code",
   "execution_count": 15,
   "metadata": {},
   "outputs": [
    {
     "name": "stdout",
     "output_type": "stream",
     "text": [
      "Loaded cube_3x3x3: 18 actions, 54 states\n"
     ]
    }
   ],
   "source": [
    "env = PuzzleEnv(env_config)\n",
    "random_actions = torch.randint(0, env.num_actions, (env.num_envs,))\n",
    "\n",
    "# for _ in range(20):\n",
    "#     random_actions = torch.randint(0, env.num_actions, (env.num_envs,))\n",
    "#     states, rewards, terminated = env.step(random_actions)\n",
    "\n",
    "# %timeit env.step(random_actions)  # 451 µs ± 2.65 µs"
   ]
  },
  {
   "cell_type": "code",
   "execution_count": 16,
   "metadata": {},
   "outputs": [
    {
     "data": {
      "text/plain": [
       "Counter({3: 24, 1: 22, 4: 19, 7: 17, 5: 16, 2: 16, 6: 14})"
      ]
     },
     "execution_count": 16,
     "metadata": {},
     "output_type": "execute_result"
    }
   ],
   "source": [
    "from collections import Counter\n",
    "\n",
    "lengths = [len(gt_move) for gt_move in env.gt_moves]\n",
    "Counter(lengths)"
   ]
  },
  {
   "cell_type": "code",
   "execution_count": null,
   "metadata": {},
   "outputs": [],
   "source": []
  },
  {
   "cell_type": "code",
   "execution_count": null,
   "metadata": {},
   "outputs": [],
   "source": []
  }
 ],
 "metadata": {
  "kernelspec": {
   "display_name": "rl",
   "language": "python",
   "name": "python3"
  },
  "language_info": {
   "codemirror_mode": {
    "name": "ipython",
    "version": 3
   },
   "file_extension": ".py",
   "mimetype": "text/x-python",
   "name": "python",
   "nbconvert_exporter": "python",
   "pygments_lexer": "ipython3",
   "version": "3.10.13"
  }
 },
 "nbformat": 4,
 "nbformat_minor": 2
}
