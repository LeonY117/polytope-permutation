{
 "cells": [
  {
   "cell_type": "markdown",
   "metadata": {},
   "source": [
    "## Environment \n",
    "\n",
    "We need to create our own environment\n",
    "\n",
    "Some basic methods:\n",
    "\n",
    "- `env.reset()`\n",
    "- `env.step(action)` -> observation, reward, terminated\n",
    "- `env.compute_reward()`\n",
    "- `env.compute_termination()`\n",
    "- `env.compute_next_state()`\n",
    "\n"
   ]
  },
  {
   "cell_type": "code",
   "execution_count": 1,
   "metadata": {},
   "outputs": [
    {
     "name": "stdout",
     "output_type": "stream",
     "text": [
      "Pretty printing has been turned OFF\n"
     ]
    }
   ],
   "source": [
    "%pprint"
   ]
  },
  {
   "cell_type": "code",
   "execution_count": 2,
   "metadata": {},
   "outputs": [],
   "source": [
    "import torch \n",
    "\n",
    "import numpy as np "
   ]
  },
  {
   "cell_type": "code",
   "execution_count": 3,
   "metadata": {},
   "outputs": [],
   "source": [
    "from src.mechanism.utils import load_puzzle, generate_state_from_moves, normalize_state\n",
    "from src.mechanism.reduce import iterate_reduce_sequence\n",
    "from src.mechanism.permute import permute_with_swap"
   ]
  },
  {
   "cell_type": "code",
   "execution_count": 4,
   "metadata": {},
   "outputs": [],
   "source": [
    "class Sampler:\n",
    "    def __init__(self) -> None:\n",
    "        pass\n",
    "\n",
    "    def sample(self) -> int:\n",
    "        pass\n",
    "\n",
    "\n",
    "class Uniform_sampler(Sampler):\n",
    "    def __init__(self, low, high) -> None:\n",
    "        super().__init__()\n",
    "        self.low = low\n",
    "        self.high = high\n",
    "\n",
    "    def sample(self, size) -> int:\n",
    "        return torch.randint(self.low, self.high, size)"
   ]
  },
  {
   "cell_type": "code",
   "execution_count": 52,
   "metadata": {},
   "outputs": [],
   "source": [
    "env_config = {\n",
    "    \"puzzle_name\": \"cube_2x2x2\",\n",
    "    \"num_envs\": 100,\n",
    "    \"max_steps\": 20,\n",
    "    \"reset_config\": {\n",
    "        \"sampler\": \"uniform\",\n",
    "        \"shuffle_range\": [1, 2],\n",
    "    },\n",
    "    \"reward_config\": {\n",
    "        \"success\": 50,\n",
    "        \"time\": -1,\n",
    "    },\n",
    "}"
   ]
  },
  {
   "cell_type": "code",
   "execution_count": 55,
   "metadata": {},
   "outputs": [],
   "source": [
    "class PuzzleEnv:\n",
    "    def __init__(self, env_config):\n",
    "        self._load_puzzle(env_config[\"puzzle_name\"])\n",
    "        self._load_config(env_config)\n",
    "\n",
    "        self.states = np.empty((self.num_envs, self.state_size), dtype=np.float32)\n",
    "        self.curr_steps = np.zeros(self.num_envs, dtype=int)\n",
    "        self.rewards = torch.zeros((self.num_envs), dtype=torch.float32)\n",
    "        # make sure we have access to the ground truth moves\n",
    "        self.gt_moves = [[]] * self.num_envs\n",
    "\n",
    "        # for exporting purposes\n",
    "        # self.config = env_config\n",
    "        self.puzzle_name = env_config[\"puzzle_name\"]\n",
    "\n",
    "        self.reset()\n",
    "\n",
    "    def _load_puzzle(self, puzzle_name):\n",
    "        move_dict, final_state = load_puzzle(puzzle_name, puzzle_dir=\"./puzzles\")\n",
    "        self.final_state = normalize_state(np.array(final_state, np.float32))\n",
    "        self.state_size = len(self.final_state)\n",
    "        # we just want to identify the move by an index:\n",
    "        action_names, swaps = [], []\n",
    "        for name, swap in move_dict.items():\n",
    "            action_names.append(name)\n",
    "            swaps.append(swap)\n",
    "\n",
    "        # The available actions\n",
    "        self.move_dict = {a: s for a, s in zip(action_names, swaps)}\n",
    "        self.swaps = swaps\n",
    "        self.action_names = np.array(action_names)\n",
    "        self.num_actions = len(self.swaps)\n",
    "\n",
    "    def _load_config(self, config):\n",
    "        self.num_envs = config[\"num_envs\"]\n",
    "        self.max_steps = config[\"max_steps\"]\n",
    "\n",
    "        self.reset_config = config[\"reset_config\"]\n",
    "        self.sampler = Uniform_sampler(*self.reset_config[\"shuffle_range\"])\n",
    "\n",
    "        self.time_cost = config[\"reward_config\"][\"time\"]\n",
    "\n",
    "    def step(self, actions):\n",
    "        self.compute_next_state(actions)\n",
    "        completed, terminated = self.compute_termination()\n",
    "        self.compute_reward(completed)\n",
    "\n",
    "        reset_indices = completed + terminated\n",
    "        self.reset(reset_indices)\n",
    "        terminated = torch.zeros(self.num_envs)\n",
    "        terminated[reset_indices] = 1\n",
    "\n",
    "        return self.states, self.rewards, terminated\n",
    "\n",
    "    def reset(self, indices=None):\n",
    "        \"\"\"Iteratively reinitialize & shuffle state at indices\"\"\"\n",
    "        if indices == None:\n",
    "            indices = list(range(self.num_envs))\n",
    "\n",
    "        # sample n in one batch\n",
    "        ns = self.sampler.sample((len(indices),))\n",
    "\n",
    "        for i, n in zip(indices, ns):\n",
    "            # sample n moves\n",
    "            non_reduced_moves = np.random.choice(\n",
    "                self.action_names, n.item(), replace=True\n",
    "            )\n",
    "            # reduce moves\n",
    "            reduced_moves = iterate_reduce_sequence(non_reduced_moves, self.puzzle_name)\n",
    "            # generate state from move\n",
    "            state = generate_state_from_moves(\n",
    "                reduced_moves, self.move_dict, self.final_state.copy(), inverse=True\n",
    "            )\n",
    "            self.states[i, :] = np.array(state, dtype=np.float32)\n",
    "            self.gt_moves[i] = reduced_moves\n",
    "            self.curr_steps[i] = 0\n",
    "\n",
    "    def compute_next_state(self, actions):\n",
    "        for i in range(self.num_envs):\n",
    "            action = self.swaps[actions[i]]\n",
    "            self.states[i] = permute_with_swap(self.states[i], action)\n",
    "            self.curr_steps[i] += 1\n",
    "\n",
    "    def compute_reward(self, completed):\n",
    "        # step\n",
    "        self.rewards = self.rewards + self.time_cost\n",
    "\n",
    "        for idx in completed:\n",
    "            self.rewards[idx] += len(self.gt_moves[idx])\n",
    "\n",
    "    def compute_termination(self):\n",
    "        completed, terminated = [], []\n",
    "        for i in range(self.num_envs):\n",
    "            success = np.array_equal(self.states[i], self.final_state)\n",
    "            if success:\n",
    "                completed.append(i)\n",
    "                continue\n",
    "            if self.curr_steps[i] >= self.max_steps:\n",
    "                terminated.append(i)\n",
    "        return completed, terminated\n",
    "\n",
    "\n",
    "env = PuzzleEnv(env_config)"
   ]
  },
  {
   "cell_type": "code",
   "execution_count": 56,
   "metadata": {},
   "outputs": [
    {
     "name": "stdout",
     "output_type": "stream",
     "text": [
      "451 µs ± 2.65 µs per loop (mean ± std. dev. of 7 runs, 1,000 loops each)\n"
     ]
    }
   ],
   "source": [
    "env = PuzzleEnv(env_config)\n",
    "for _ in range(20):\n",
    "    env = PuzzleEnv(env_config)\n",
    "    random_actions = torch.randint(0, env.num_actions, (env.num_envs,))\n",
    "    states, rewards, terminated = env.step(random_actions)\n",
    "\n",
    "# %timeit env.step(random_actions)  # 451 µs ± 2.65 µs"
   ]
  },
  {
   "cell_type": "code",
   "execution_count": null,
   "metadata": {},
   "outputs": [],
   "source": []
  }
 ],
 "metadata": {
  "kernelspec": {
   "display_name": "rl",
   "language": "python",
   "name": "python3"
  },
  "language_info": {
   "codemirror_mode": {
    "name": "ipython",
    "version": 3
   },
   "file_extension": ".py",
   "mimetype": "text/x-python",
   "name": "python",
   "nbconvert_exporter": "python",
   "pygments_lexer": "ipython3",
   "version": "3.10.13"
  }
 },
 "nbformat": 4,
 "nbformat_minor": 2
}
