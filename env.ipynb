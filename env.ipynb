{
 "cells": [
  {
   "cell_type": "markdown",
   "metadata": {},
   "source": [
    "## Environment \n",
    "\n",
    "We need to create our own environment\n",
    "\n",
    "Some basic methods:\n",
    "\n",
    "- `env.reset()`\n",
    "- `env.step(action)` -> observation, reward, terminated\n",
    "- `env.compute_reward()`\n",
    "- `env.compute_termination()`\n",
    "- `env.compute_next_state()`\n",
    "\n"
   ]
  },
  {
   "cell_type": "code",
   "execution_count": 2,
   "metadata": {},
   "outputs": [],
   "source": [
    "import torch \n",
    "\n",
    "import numpy as np "
   ]
  },
  {
   "cell_type": "code",
   "execution_count": 1,
   "metadata": {},
   "outputs": [],
   "source": [
    "from src.mechanism.utils import load_puzzle, generate_state_from_moves\n",
    "from src.mechanism.reduce import iterate_reduce_sequence"
   ]
  },
  {
   "cell_type": "code",
   "execution_count": 3,
   "metadata": {},
   "outputs": [],
   "source": [
    "class Sampler:\n",
    "    def __init__(self) -> None:\n",
    "        pass\n",
    "\n",
    "    def sample(self) -> int:\n",
    "        pass\n",
    "\n",
    "\n",
    "class Uniform_sampler(Sampler):\n",
    "    def __init__(self, low, high) -> None:\n",
    "        super().__init__()\n",
    "        self.low = low\n",
    "        self.high = high\n",
    "\n",
    "    def sample(self, size) -> int:\n",
    "        return torch.randint(self.low, self.high, size)"
   ]
  },
  {
   "cell_type": "code",
   "execution_count": 4,
   "metadata": {},
   "outputs": [],
   "source": [
    "env_config = {\n",
    "    \"puzzle_name\": \"cube_2x2x2\",\n",
    "    \"num_envs\": 100,\n",
    "    \"max_steps\": 100,\n",
    "    \"reset_config\": {\n",
    "        \"sampler\": \"uniform\",\n",
    "        \"shuffle_range\": [1, 10],\n",
    "    },\n",
    "    \"reward_config\": {\n",
    "        \"success\": 50,\n",
    "        \"time\": -1,\n",
    "    },\n",
    "}"
   ]
  },
  {
   "cell_type": "code",
   "execution_count": 10,
   "metadata": {},
   "outputs": [],
   "source": [
    "class PuzzleEnv:\n",
    "    def __init__(self, env_config):\n",
    "        self._load_puzzle(env_config[\"puzzle_name\"])\n",
    "        self._load_config(env_config)\n",
    "\n",
    "        # for exporting purposes\n",
    "        # self.config = env_config\n",
    "        self.puzzle_name = env_config[\"puzzle_name\"]\n",
    "\n",
    "        self.reset()\n",
    "\n",
    "    def _load_puzzle(self, puzzle_name):\n",
    "        self.move_dict, self.final_state = load_puzzle(\n",
    "            puzzle_name, puzzle_dir=\"./puzzles\"\n",
    "        )\n",
    "        self.state_size = len(self.final_state)\n",
    "        # we just want to identify the move by an index:\n",
    "        action_names, swaps = [], []\n",
    "        for name, swap in self.move_dict.items():\n",
    "            action_names.append(name)\n",
    "            swaps.append(swap)\n",
    "\n",
    "        # The available actions\n",
    "        self.swaps = swaps\n",
    "        self.action_names = np.array(action_names)\n",
    "        self.num_actions = len(self.swaps)\n",
    "\n",
    "    def _load_config(self, config):\n",
    "        self.num_envs = config[\"num_envs\"]\n",
    "        self.max_steps = config[\"max_steps\"]\n",
    "\n",
    "        self.reset_config = config[\"reset_config\"]\n",
    "        self.sampler = Uniform_sampler(*self.reset_config[\"shuffle_range\"])\n",
    "\n",
    "    def step(self, actions):\n",
    "        self.compute_next_state(actions)\n",
    "        self.compute_reward()\n",
    "        self.compute_termination()\n",
    "\n",
    "    def reset(self):\n",
    "        \"\"\"Reinitialize & shuffle every state\"\"\"\n",
    "        self.states = torch.empty((self.num_envs, self.state_size), dtype=torch.float32)\n",
    "        self.gt_moves = [[]] * self.num_envs # make sure we have access to the ground truth moves\n",
    "        ns = self.sampler.sample((self.num_envs,))\n",
    "\n",
    "        for i in range(self.num_envs):\n",
    "            n = ns[i].item()\n",
    "            # sample n moves\n",
    "            non_reduced_moves = np.random.choice(self.action_names, n)\n",
    "            # reduce moves\n",
    "            reduced_moves = iterate_reduce_sequence(non_reduced_moves, self.puzzle_name)\n",
    "            # generate state from move\n",
    "            state = generate_state_from_moves(\n",
    "                reduced_moves, self.move_dict, self.final_state\n",
    "            )\n",
    "            self.states[i, :] = torch.tensor(state, dtype=torch.float32)\n",
    "            self.gt_moves[i] = reduced_moves\n",
    "\n",
    "    def compute_next_state(self, actions):\n",
    "        pass\n",
    "\n",
    "    def compute_reward(self):\n",
    "        pass\n",
    "\n",
    "    def compute_termination(self):\n",
    "        pass\n",
    "\n",
    "\n",
    "env = PuzzleEnv(env_config)"
   ]
  },
  {
   "cell_type": "code",
   "execution_count": 24,
   "metadata": {},
   "outputs": [
    {
     "data": {
      "text/plain": [
       "array(['a', 'a', 'a'], dtype='<U1')"
      ]
     },
     "execution_count": 24,
     "metadata": {},
     "output_type": "execute_result"
    }
   ],
   "source": [
    "np.array(['a', 'b', 'c'])[[0, 0, 0]]"
   ]
  },
  {
   "cell_type": "code",
   "execution_count": 14,
   "metadata": {},
   "outputs": [
    {
     "data": {
      "text/plain": [
       "tuple"
      ]
     },
     "execution_count": 14,
     "metadata": {},
     "output_type": "execute_result"
    }
   ],
   "source": [
    "type((1,))"
   ]
  },
  {
   "cell_type": "code",
   "execution_count": null,
   "metadata": {},
   "outputs": [],
   "source": []
  }
 ],
 "metadata": {
  "kernelspec": {
   "display_name": "rl",
   "language": "python",
   "name": "python3"
  },
  "language_info": {
   "codemirror_mode": {
    "name": "ipython",
    "version": 3
   },
   "file_extension": ".py",
   "mimetype": "text/x-python",
   "name": "python",
   "nbconvert_exporter": "python",
   "pygments_lexer": "ipython3",
   "version": "3.10.13"
  }
 },
 "nbformat": 4,
 "nbformat_minor": 2
}
