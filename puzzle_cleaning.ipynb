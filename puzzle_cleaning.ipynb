{
 "cells": [
  {
   "cell_type": "code",
   "execution_count": 7,
   "metadata": {},
   "outputs": [],
   "source": [
    "import json\n",
    "import os\n",
    "\n",
    "import numpy as np\n",
    "import pandas as pd\n",
    "\n",
    "import matplotlib.pyplot as plt"
   ]
  },
  {
   "cell_type": "code",
   "execution_count": 34,
   "metadata": {},
   "outputs": [],
   "source": [
    "# sort the puzzle files a little bit\n",
    "\n",
    "# puzzle_name\n",
    "# |- moves.json\n",
    "# |- puzzles.csv\n",
    "# |- sample_solutions.csv\n",
    "\n",
    "puzzle_info_arr = pd.read_csv(\"./puzzles/puzzle_info.csv\").to_numpy()\n",
    "\n",
    "puzzle_actions = {}\n",
    "\n",
    "for puzzle_name, moves in puzzle_info_arr:\n",
    "    puzzle_name = puzzle_name.replace('/', 'x')\n",
    "    puzzle_actions[puzzle_name] = json.loads(moves.replace(\"'\", '\"'))\n",
    "\n",
    "puzzles_arr = pd.read_csv(\"./puzzles/puzzles.csv\").to_numpy()\n",
    "\n",
    "solutions = []\n",
    "sample_submission_arr = pd.read_csv(\"./puzzles/sample_submission.csv\").to_numpy()\n",
    "for (idx, sol_str) in sample_submission_arr:\n",
    "    solutions.append((idx, sol_str.split('.')))"
   ]
  },
  {
   "cell_type": "code",
   "execution_count": 15,
   "metadata": {},
   "outputs": [],
   "source": [
    "for puzzle_name in puzzle_actions.keys():\n",
    "    if puzzle_name not in os.listdir(path=\"puzzles\"):\n",
    "        os.mkdir(f\"puzzles/{puzzle_name}\")\n",
    "    \n",
    "print('all folders created')"
   ]
  },
  {
   "cell_type": "code",
   "execution_count": 19,
   "metadata": {},
   "outputs": [],
   "source": [
    "for puzzle_name, actions in puzzle_actions.items():\n",
    "    with open(f\"puzzles/{puzzle_name}/moves.json\", \"w\") as f:\n",
    "        json.dump(actions, f)"
   ]
  },
  {
   "cell_type": "code",
   "execution_count": 42,
   "metadata": {},
   "outputs": [],
   "source": [
    "curr_name = \"cube_2x2x2\"\n",
    "l, r = 0, 0\n",
    "for i, puzzle_details in enumerate(puzzles_arr):\n",
    "    idx, name, final_state, start_state, num_wilds = puzzle_details\n",
    "    name = name.replace(\"/\", \"x\")\n",
    "    if name == curr_name:\n",
    "        r += 1\n",
    "    elif name != curr_name:\n",
    "        df = pd.DataFrame(puzzles_arr[l:r])\n",
    "        df.to_csv(f\"puzzles/{curr_name}/puzzles.csv\", header=False)\n",
    "\n",
    "        sol_df = pd.DataFrame(solutions[l:r], columns=[\"id\", \"moves\"])\n",
    "        sol_df.set_index(\"id\", inplace=True)\n",
    "        sol_df.to_csv(f\"puzzles/{curr_name}/sample_solution.csv\")\n",
    "\n",
    "        curr_name = name\n",
    "        l = r"
   ]
  },
  {
   "cell_type": "code",
   "execution_count": null,
   "metadata": {},
   "outputs": [],
   "source": []
  }
 ],
 "metadata": {
  "kernelspec": {
   "display_name": "torch-mps",
   "language": "python",
   "name": "python3"
  },
  "language_info": {
   "codemirror_mode": {
    "name": "ipython",
    "version": 3
   },
   "file_extension": ".py",
   "mimetype": "text/x-python",
   "name": "python",
   "nbconvert_exporter": "python",
   "pygments_lexer": "ipython3",
   "version": "3.10.13"
  }
 },
 "nbformat": 4,
 "nbformat_minor": 2
}
