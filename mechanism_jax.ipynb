{
 "cells": [
  {
   "cell_type": "markdown",
   "metadata": {},
   "source": [
    "Implementation of the puzzle permutation mechanisms using jax"
   ]
  },
  {
   "cell_type": "code",
   "execution_count": 1,
   "metadata": {},
   "outputs": [
    {
     "name": "stdout",
     "output_type": "stream",
     "text": [
      "Pretty printing has been turned OFF\n"
     ]
    }
   ],
   "source": [
    "%pprint"
   ]
  },
  {
   "cell_type": "code",
   "execution_count": 2,
   "metadata": {},
   "outputs": [],
   "source": [
    "import json\n",
    "\n",
    "import jax\n",
    "\n",
    "import numpy as np\n",
    "import pandas as pd\n",
    "import jax.numpy as jnp \n",
    "\n",
    "from typing import List, Any, Tuple, Dict\n",
    "from numpy import ndarray"
   ]
  },
  {
   "cell_type": "code",
   "execution_count": 3,
   "metadata": {},
   "outputs": [],
   "source": [
    "def permute(state: List[Any], perm: List[int]) -> List[Any]:\n",
    "    \"\"\"performs permutation on state and returns new state\"\"\"\n",
    "    assert len(state) == len(perm)\n",
    "    new_state = state[:]\n",
    "    for i, j in enumerate(perm):\n",
    "        new_state[i] = state[j]\n",
    "    return new_state\n",
    "\n",
    "\n",
    "def permute_with_swap(state: List[Any], swaps: List[Tuple[int, int]]) -> List[Any]:\n",
    "    \"\"\"performs permutation with swapping operations\"\"\"\n",
    "    new_state = state[:]\n",
    "    for i, j in swaps:\n",
    "        new_state[i] = state[j]\n",
    "    return new_state\n",
    "\n",
    "\n",
    "def reverse_perm(perm: List[int]) -> List[int]:\n",
    "    \"\"\"computes the reversed permutation\"\"\"\n",
    "    out = perm[:]\n",
    "    for i, j in enumerate(perm):\n",
    "        out[j] = i\n",
    "    return out\n",
    "\n",
    "\n",
    "def perm_to_swap(perm: List[int]) -> List[Tuple[int, int]]:\n",
    "    \"\"\"changes a permutation arr to a list of swaps\"\"\"\n",
    "    swap = []\n",
    "    for i, j in enumerate(perm):\n",
    "        if i != j:\n",
    "            swap.append((i, j))\n",
    "\n",
    "    return swap"
   ]
  },
  {
   "cell_type": "code",
   "execution_count": 101,
   "metadata": {},
   "outputs": [
    {
     "name": "stdout",
     "output_type": "stream",
     "text": [
      "Loaded cube_2x2x2 with 12 moves and 24 states\n"
     ]
    }
   ],
   "source": [
    "def load_puzzle_moves(\n",
    "    puzzle_name: str, convert_to_swaps=True\n",
    ") -> (Dict[str, List[int]], int):\n",
    "    \"\"\"Retrieves and returns the moves and final position of the puzzle\"\"\"\n",
    "    # load the moves:\n",
    "    with open(f\"puzzles/{puzzle_name}/moves.json\") as f:\n",
    "        moves = json.load(f)\n",
    "\n",
    "    # add reversed moves\n",
    "    reversed_moves = {}\n",
    "    for move_name, perm in moves.items():\n",
    "        reversed_perm = reverse_perm(perm)\n",
    "        if reversed_perm == perm:\n",
    "            continue\n",
    "        reversed_moves[f\"-{move_name}\"] = reversed_perm\n",
    "\n",
    "    moves.update(reversed_moves)\n",
    "\n",
    "    if convert_to_swaps:\n",
    "        for move_name, perm in moves.items():\n",
    "            moves[move_name] = perm_to_swap(perm)\n",
    "\n",
    "    # get final position (from the first puzzle), note that the actual state of this position doesn't really matter\n",
    "    # we just need to get the structure of the puzzle\n",
    "    df = pd.read_csv(f\"puzzles/{puzzle_name}/puzzles.csv\")\n",
    "    state = df.iloc[0].to_numpy()[3].split(\";\")\n",
    "    c = -1\n",
    "    mapping = {}\n",
    "    for i, s in enumerate(state):\n",
    "        if s not in mapping.keys():\n",
    "            c += 1\n",
    "            mapping[s] = c\n",
    "        state[i] = mapping[s]\n",
    "\n",
    "    return moves, state\n",
    "\n",
    "\n",
    "puzzle_name = \"cube_2x2x2\"\n",
    "move_dict, final_state = load_puzzle_moves(puzzle_name)\n",
    "num_states = len(final_state)\n",
    "move_names = np.array(list(move_dict.keys()))\n",
    "\n",
    "# final_state = list(range(num_states))\n",
    "\n",
    "print(f\"Loaded {puzzle_name} with {len(move_names)} moves and {num_states} states\")"
   ]
  },
  {
   "cell_type": "code",
   "execution_count": 102,
   "metadata": {},
   "outputs": [],
   "source": [
    "class Sampler:\n",
    "    def __init__(self) -> None:\n",
    "        pass\n",
    "\n",
    "    def sample(self) -> int:\n",
    "        pass\n",
    "\n",
    "\n",
    "class Uniform_sampler(Sampler):\n",
    "    def __init__(self, low, high) -> None:\n",
    "        super().__init__()\n",
    "        self.low = low\n",
    "        self.high = high\n",
    "\n",
    "    def sample(self) -> int:\n",
    "        return np.random.randint(self.low, self.high)\n",
    "\n",
    "\n",
    "class Constant_sampler(Sampler):\n",
    "    def __init__(self, n) -> None:\n",
    "        super().__init__()\n",
    "        self.n = n\n",
    "\n",
    "    def sample(self) -> int:\n",
    "        return self.n"
   ]
  },
  {
   "cell_type": "code",
   "execution_count": 112,
   "metadata": {},
   "outputs": [],
   "source": [
    "from src.mechanism.reduce import iterate_reduce_sequence\n",
    "\n",
    "puzzle_name = \"cube_10x10x10\"\n",
    "move_dict, final_state = load_puzzle_moves(puzzle_name)\n",
    "num_states = len(final_state)\n",
    "move_names = np.array(list(move_dict.keys()))\n",
    "b = 100\n",
    "# get a batch of states:\n",
    "state = np.expand_dims(np.array(final_state), 0)\n",
    "states = np.repeat(state, b, 0)\n",
    "\n",
    "\n",
    "def sample_moves(sampler, puzzle_name, move_names):\n",
    "    # TODO: shouldn't use variables from outside scope like this\n",
    "    n = sampler.sample()\n",
    "    moves = np.random.choice(move_names, n)\n",
    "    moves = iterate_reduce_sequence(moves, puzzle_name)\n",
    "    return moves\n",
    "\n",
    "\n",
    "sampler = Uniform_sampler(4, 5)\n",
    "# sampling moves is done with regular lists, since at each step the batch should be small\n",
    "moves = sample_moves(sampler, puzzle_name, move_names) # list\n",
    "moves = np.expand_dims(np.array(moves), 0)\n",
    "moves = np.repeat(moves, b, 0)\n",
    "\n",
    "next_move = np.array([move_names[0]]*b)\n"
   ]
  },
  {
   "cell_type": "code",
   "execution_count": 113,
   "metadata": {},
   "outputs": [
    {
     "name": "stdout",
     "output_type": "stream",
     "text": [
      "1.14 ms ± 91.9 µs per loop (mean ± std. dev. of 7 runs, 100 loops each)\n"
     ]
    }
   ],
   "source": [
    "def env_step(state, action):\n",
    "    state = permute_with_swap(state, action)\n",
    "    return state\n",
    "\n",
    "\n",
    "def batch_env_step(states, actions, move_dict):\n",
    "    for i, (state, action) in enumerate(zip(states, actions)):\n",
    "        action = move_dict[action]\n",
    "        states[i] = env_step(state, action)\n",
    "\n",
    "%timeit -n 100 batch_env_step(states, next_move, move_dict)"
   ]
  },
  {
   "cell_type": "code",
   "execution_count": 114,
   "metadata": {},
   "outputs": [
    {
     "name": "stdout",
     "output_type": "stream",
     "text": [
      "The slowest run took 22.95 times longer than the fastest. This could mean that an intermediate result is being cached.\n",
      "3.26 ms ± 5.72 ms per loop (mean ± std. dev. of 7 runs, 1 loop each)\n"
     ]
    }
   ],
   "source": [
    "from jax import vmap, pmap\n",
    "from functools import partial\n",
    "\n",
    "puzzle_name = \"cube_10x10x10\"\n",
    "move_dict, final_state = load_puzzle_moves(puzzle_name, convert_to_swaps=False)\n",
    "num_states = len(final_state)\n",
    "move_names = np.array(list(move_dict.keys()))\n",
    "b = 100\n",
    "state = np.expand_dims(np.array(final_state), 0)\n",
    "states = np.repeat(state, b, 0)\n",
    "\n",
    "def jax_permute(state, perm):\n",
    "    \"\"\"performs permutation with swapping operations\"\"\"\n",
    "    return jnp.take(state, perm, unique_indices=True)\n",
    "\n",
    "\n",
    "def env_step(state, action):\n",
    "    return jax_permute(state, action)\n",
    "\n",
    "\n",
    "def jax_batch_env_step(states, actions):\n",
    "    return vmap(env_step)(states, actions)\n",
    "\n",
    "\n",
    "action_map = list(move_dict.values())\n",
    "\n",
    "move = action_map[1]\n",
    "j_next_moves = jnp.array([move] * b)\n",
    "j_states = jnp.array(states)\n",
    "\n",
    "# env_step(j_states[0], j_next_moves[0])\n",
    "\n",
    "%timeit -n 1 jax_batch_env_step(j_states, j_next_moves)\n",
    "# jax_permute_with_swap(j_states[0], j_next_moves[0])\n",
    "# # jax.lax.ppermute(j_states[0], \"p\", perm=j_next_moves[0])"
   ]
  },
  {
   "cell_type": "code",
   "execution_count": null,
   "metadata": {},
   "outputs": [],
   "source": [
    "from src.mechanism.utils import get_inverse_move\n",
    "\n",
    "def sample_moves(move_names: List[str], n: int) -> List[int]:\n",
    "    return np.random.choice(move_names, n)\n",
    "\n",
    "\n",
    "def generate_state_from_moves(move_names, move_dict, state, inverse=False):\n",
    "    for move_name in move_names:\n",
    "        if inverse:\n",
    "            move_name = get_inverse_move(move_name)\n",
    "        move = move_dict[move_name]\n",
    "        state = permute_with_swap(state, move)\n",
    "\n",
    "    return state\n",
    "\n",
    "\n",
    "def normalize_state(state):\n",
    "    if type(state) == list:\n",
    "        n = len(set(state)) - 1\n",
    "        return [s / n for s in state]\n",
    "    return state / len(state)"
   ]
  }
 ],
 "metadata": {
  "kernelspec": {
   "display_name": "rl",
   "language": "python",
   "name": "python3"
  },
  "language_info": {
   "codemirror_mode": {
    "name": "ipython",
    "version": 3
   },
   "file_extension": ".py",
   "mimetype": "text/x-python",
   "name": "python",
   "nbconvert_exporter": "python",
   "pygments_lexer": "ipython3",
   "version": "3.10.13"
  }
 },
 "nbformat": 4,
 "nbformat_minor": 2
}
