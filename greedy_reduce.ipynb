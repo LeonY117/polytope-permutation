{
 "cells": [
  {
   "cell_type": "markdown",
   "metadata": {},
   "source": [
    "### Greedy algorithm for reducing redundant moves\n",
    "\n",
    "some low hanging fruits are:\n",
    "\n",
    "- cancel pairs of inverses, e.g. (f0, -f0)\n",
    "- cancel 4 rotations\n",
    "- change 3 rotations to 1 rotation e.g. (f0, f0, f0 == -f0)\n",
    "\n",
    "for more details see:\n",
    "https://www.kaggle.com/code/cl12102783/cancel-pairs-for-all-puzzles/notebook\n"
   ]
  },
  {
   "cell_type": "code",
   "execution_count": 1,
   "metadata": {},
   "outputs": [],
   "source": [
    "import json\n",
    "import copy\n",
    "from collections import Counter\n",
    "from functools import partial\n",
    "\n",
    "import numpy as np\n",
    "import pandas as pd\n",
    "\n",
    "import matplotlib.pyplot as plt\n",
    "from tqdm import tqdm"
   ]
  },
  {
   "cell_type": "code",
   "execution_count": 2,
   "metadata": {},
   "outputs": [
    {
     "name": "stdout",
     "output_type": "stream",
     "text": [
      "(('cube_2/2/2', 0), ['r1', '-f1'])\n"
     ]
    }
   ],
   "source": [
    "# load sample solutions\n",
    "sample_submission_arr = pd.read_csv(\"./puzzles/sample_submission.csv\").to_numpy()\n",
    "# load all the puzzle's start and end positions\n",
    "puzzles_arr = pd.read_csv(\"./puzzles/puzzles.csv\").to_numpy()\n",
    "\n",
    "puzzle_solutions = {}\n",
    "\n",
    "for puzzle, solution in zip(puzzles_arr, sample_submission_arr):\n",
    "    puzzle_name = puzzle[1]\n",
    "    idx = puzzle[0]\n",
    "    steps = solution[1].split(\".\")\n",
    "    puzzle_solutions[(puzzle_name, idx)] = steps\n",
    "\n",
    "print(list(puzzle_solutions.items())[0])"
   ]
  },
  {
   "cell_type": "code",
   "execution_count": 4,
   "metadata": {},
   "outputs": [],
   "source": [
    "from src.mechanism.utils import remove_prefix, get_inverse_move\n",
    "from src.mechanism.reduce import iterate_reduce_sequence"
   ]
  },
  {
   "cell_type": "code",
   "execution_count": 9,
   "metadata": {},
   "outputs": [
    {
     "name": "stdout",
     "output_type": "stream",
     "text": [
      "['-r0', 'r1']\n"
     ]
    }
   ],
   "source": [
    "# subsequence = [\"f0\", \"f0\", \"f0\", \"f0\", \"f1\", \"f1\", \"f1\", \"-f1\", \"-f1\", \"-f0\"]\n",
    "subsequence = [\"r0\", \"r0\", \"r0\", \"r0\", \"r1\", \"r1\", \"r1\", \"-r1\", \"-r1\", \"-r0\"]\n",
    "# subsequence = [\"f0\"]\n",
    "# print(iterate_reduction(subsequence, \"globe_3/4\"))\n",
    "print(iterate_reduce_sequence(subsequence, \"cube\"))"
   ]
  },
  {
   "cell_type": "code",
   "execution_count": 6,
   "metadata": {},
   "outputs": [
    {
     "name": "stderr",
     "output_type": "stream",
     "text": [
      "100%|██████████| 398/398 [00:02<00:00, 140.83it/s] "
     ]
    },
    {
     "name": "stdout",
     "output_type": "stream",
     "text": [
      "1220590\n",
      "1201946\n",
      "reduced 18644 moves\n"
     ]
    },
    {
     "name": "stderr",
     "output_type": "stream",
     "text": [
      "\n"
     ]
    }
   ],
   "source": [
    "# iterate_reduce_sequence([\"f0\", \"f0\", \"f0\", \"f0\", \"f1\", \"f1\", \"f1\", \"-f1\", \"-f1\", \"-f0\"])\n",
    "\n",
    "old_total = 0\n",
    "new_total = 0\n",
    "\n",
    "out = []\n",
    "for puzzle, sequence in tqdm(puzzle_solutions.items()):\n",
    "    puzzle_name = puzzle[0]\n",
    "    idx = puzzle[1]\n",
    "\n",
    "    old_total += len(sequence)\n",
    "    reduced_sequence = iterate_reduce_sequence(sequence, puzzle_name)\n",
    "    new_total += len(reduced_sequence)\n",
    "\n",
    "    out.append((\".\".join(reduced_sequence)))\n",
    "\n",
    "print(old_total)\n",
    "print(new_total)\n",
    "\n",
    "print(f\"reduced {old_total-new_total} moves\")"
   ]
  },
  {
   "cell_type": "code",
   "execution_count": 32,
   "metadata": {},
   "outputs": [],
   "source": [
    "out_df = pd.DataFrame(out)\n",
    "out_df.to_csv('./solutions/greedy_all.csv')"
   ]
  }
 ],
 "metadata": {
  "kernelspec": {
   "display_name": "torch-mps",
   "language": "python",
   "name": "python3"
  },
  "language_info": {
   "codemirror_mode": {
    "name": "ipython",
    "version": 3
   },
   "file_extension": ".py",
   "mimetype": "text/x-python",
   "name": "python",
   "nbconvert_exporter": "python",
   "pygments_lexer": "ipython3",
   "version": "3.10.13"
  }
 },
 "nbformat": 4,
 "nbformat_minor": 2
}
