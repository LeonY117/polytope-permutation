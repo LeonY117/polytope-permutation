{
 "cells": [
  {
   "cell_type": "markdown",
   "metadata": {},
   "source": [
    "### Greedy algorithm for reducing redundant moves"
   ]
  },
  {
   "cell_type": "code",
   "execution_count": 6,
   "metadata": {},
   "outputs": [],
   "source": [
    "import json\n",
    "import copy\n",
    "from collections import Counter\n",
    "from functools import partial\n",
    "\n",
    "import numpy as np\n",
    "import pandas as pd\n",
    "\n",
    "import matplotlib.pyplot as plt\n",
    "from tqdm import tqdm"
   ]
  },
  {
   "cell_type": "code",
   "execution_count": 2,
   "metadata": {},
   "outputs": [
    {
     "name": "stdout",
     "output_type": "stream",
     "text": [
      "(('cube_2/2/2', 0), ['r1', '-f1'])\n"
     ]
    }
   ],
   "source": [
    "# load sample solutions\n",
    "sample_submission_arr = pd.read_csv(\"./puzzles/sample_submission.csv\").to_numpy()\n",
    "# load all the puzzle's start and end positions\n",
    "puzzles_arr = pd.read_csv(\"./puzzles/puzzles.csv\").to_numpy()\n",
    "\n",
    "puzzle_solutions = {}\n",
    "\n",
    "for puzzle, solution in zip(puzzles_arr, sample_submission_arr):\n",
    "    puzzle_name = puzzle[1]\n",
    "    idx = puzzle[0]\n",
    "    steps = solution[1].split(\".\")\n",
    "    puzzle_solutions[(puzzle_name, idx)] = steps\n",
    "\n",
    "print(list(puzzle_solutions.items())[0])"
   ]
  },
  {
   "cell_type": "code",
   "execution_count": 28,
   "metadata": {},
   "outputs": [
    {
     "name": "stdout",
     "output_type": "stream",
     "text": [
      "['r0', 'r0', 'r0', 'r1']\n"
     ]
    }
   ],
   "source": [
    "# some low hanging fruits are:\n",
    "# cancel pairs of inverses, e.g. (f0, -f0)\n",
    "# cancel 4 rotations\n",
    "# change 3 rotations to 1 rotation e.g. (f0, f0, f0 == -f0)\n",
    "\n",
    "\n",
    "def remove_prefix(text, prefix):\n",
    "    return text[text.startswith(prefix) and len(prefix) :]\n",
    "\n",
    "\n",
    "def get_inverse_move(move_name):\n",
    "    if move_name.startswith(\"-\"):\n",
    "        return move_name[1:]\n",
    "    else:\n",
    "        return f\"-{move_name}\"\n",
    "\n",
    "\n",
    "def reduce_wreath(subsequence):\n",
    "    \"\"\"For wreath we can only cancel consecutive, opposite pairs\"\"\"\n",
    "    # we use a simple stack to do this, we should only need one pass for this\n",
    "    out = []\n",
    "    prev = None\n",
    "    for move in subsequence:\n",
    "        prev = out[-1] if out else None\n",
    "        if prev and get_inverse_move(prev) == move:\n",
    "            out.pop()\n",
    "        else:\n",
    "            out.append(move)\n",
    "\n",
    "    return out\n",
    "\n",
    "\n",
    "def reduce_globe(subsequence, n):\n",
    "    if not subsequence:\n",
    "        return []\n",
    "    move_type = remove_prefix(subsequence[0], \"-\")[0]\n",
    "    if move_type == \"r\":\n",
    "        out = reduce_commutative(subsequence, n)\n",
    "    elif move_type == \"f\":\n",
    "        out = []\n",
    "        prev = None\n",
    "        for move in subsequence:\n",
    "            prev = out[-1] if out else None\n",
    "            if prev and remove_prefix(prev, \"-\") == move:\n",
    "                out.pop()\n",
    "            else:\n",
    "                out.append(move)\n",
    "\n",
    "    return out\n",
    "\n",
    "\n",
    "def reduce_commutative(subsequence, n):\n",
    "    \"\"\"Given a subsequence of parallel moves, return the reduced moves\"\"\"\n",
    "    subsequence.sort()\n",
    "\n",
    "    out = []\n",
    "    curr_count, curr_move = 0, \"\"\n",
    "    # reduce 3 or 4 in a row:\n",
    "    for move in subsequence + [\"x\"]:\n",
    "        # a dummy item 'x' to make loop run once more for leftover items\n",
    "        if move != curr_move:\n",
    "            if curr_count == n - 1:\n",
    "                out.append(get_inverse_move(curr_move))\n",
    "            else:\n",
    "                out.extend([curr_move] * curr_count)\n",
    "            curr_count, curr_move = 1, move\n",
    "        elif move == curr_move:\n",
    "            curr_count += 1\n",
    "        if curr_count == n:\n",
    "            # skip entirely, don't append to out\n",
    "            curr_count = 0\n",
    "\n",
    "    counts = Counter(out)\n",
    "\n",
    "    # remove pairs\n",
    "    out = []\n",
    "    for move, count in counts.items():\n",
    "        inv_move = get_inverse_move(move)\n",
    "        inv_count = counts.get(inv_move, 0)\n",
    "        if count > inv_count:\n",
    "            out.extend([move] * (count - inv_count))\n",
    "        else:\n",
    "            out.extend([inv_move] * (inv_count - count))\n",
    "        if inv_move in counts.keys():\n",
    "            counts[inv_move] = 0\n",
    "        counts[move] = 0\n",
    "    return out\n",
    "\n",
    "\n",
    "def reduce_cube(subsequence):\n",
    "    return reduce_commutative(subsequence, n=4)\n",
    "\n",
    "\n",
    "reduce_subsequence = {\n",
    "    \"cube\": reduce_cube,\n",
    "    \"wreath\": reduce_wreath,\n",
    "    \"globe\": reduce_globe,\n",
    "}\n",
    "\n",
    "\n",
    "def iterate_reduction(subsequence, puzzle):\n",
    "    if puzzle.startswith(\"globe\"):\n",
    "        n = int(puzzle.split(\"/\")[1])\n",
    "        reduction_method = partial(reduce_subsequence[\"globe\"], n=n * 2)\n",
    "    elif puzzle.startswith(\"cube\"):\n",
    "        reduction_method = reduce_subsequence[\"cube\"]\n",
    "    else:\n",
    "        reduction_method = reduce_subsequence[\"wreath\"]\n",
    "\n",
    "    prev = []\n",
    "    curr = subsequence\n",
    "\n",
    "    while prev != curr:\n",
    "        prev = curr[:]\n",
    "        curr = reduction_method(curr)\n",
    "\n",
    "    return curr\n",
    "\n",
    "\n",
    "# subsequence = [\"f0\", \"f0\", \"f0\", \"f0\", \"f1\", \"f1\", \"f1\", \"-f1\", \"-f1\", \"-f0\"]\n",
    "subsequence = [\"r0\", \"r0\", \"r0\", \"r0\", \"r1\", \"r1\", \"r1\", \"-r1\", \"-r1\", \"-r0\"]\n",
    "# subsequence = [\"f0\"]\n",
    "print(iterate_reduction(subsequence, \"globe_3/4\"))"
   ]
  },
  {
   "cell_type": "code",
   "execution_count": 31,
   "metadata": {},
   "outputs": [
    {
     "name": "stderr",
     "output_type": "stream",
     "text": [
      "100%|██████████| 398/398 [00:04<00:00, 81.58it/s] "
     ]
    },
    {
     "name": "stdout",
     "output_type": "stream",
     "text": [
      "1220590\n",
      "1201946\n",
      "reduced 18644 moves\n"
     ]
    },
    {
     "name": "stderr",
     "output_type": "stream",
     "text": [
      "\n"
     ]
    }
   ],
   "source": [
    "def reduce_sequence(sequence, puzzle):\n",
    "    out = []\n",
    "    curr_face = \"\"\n",
    "    curr_subsequence = []\n",
    "    for move in sequence + [\"x\"]:\n",
    "        face = remove_prefix(move, \"-\")[0]\n",
    "        if face != curr_face:\n",
    "            out.extend(iterate_reduction(curr_subsequence, puzzle))\n",
    "            curr_subsequence = []\n",
    "        curr_face = face\n",
    "        curr_subsequence.append(move)\n",
    "\n",
    "    return out\n",
    "\n",
    "\n",
    "def iterate_reduce_sequence(sequence, puzzle):\n",
    "    # return reduce_sequence(sequence)\n",
    "    prev = []\n",
    "    curr = sequence\n",
    "    while prev != curr:\n",
    "        prev = curr[:]\n",
    "        curr = reduce_sequence(curr, puzzle)\n",
    "    return curr\n",
    "\n",
    "\n",
    "# iterate_reduce_sequence([\"f0\", \"f0\", \"f0\", \"f0\", \"f1\", \"f1\", \"f1\", \"-f1\", \"-f1\", \"-f0\"])\n",
    "\n",
    "old_total = 0\n",
    "new_total = 0\n",
    "\n",
    "out = []\n",
    "for puzzle, sequence in tqdm(puzzle_solutions.items()):\n",
    "    puzzle_name = puzzle[0]\n",
    "    idx = puzzle[1]\n",
    "\n",
    "    old_total += len(sequence)\n",
    "    reduced_sequence = iterate_reduce_sequence(sequence, puzzle_name)\n",
    "    new_total += len(reduced_sequence)\n",
    "\n",
    "    out.append((\".\".join(reduced_sequence)))\n",
    "\n",
    "print(old_total)\n",
    "print(new_total)\n",
    "\n",
    "print(f\"reduced {old_total-new_total} moves\")"
   ]
  },
  {
   "cell_type": "code",
   "execution_count": 32,
   "metadata": {},
   "outputs": [],
   "source": [
    "out_df = pd.DataFrame(out)\n",
    "out_df.to_csv('./solutions/greedy_all.csv')"
   ]
  },
  {
   "cell_type": "code",
   "execution_count": null,
   "metadata": {},
   "outputs": [],
   "source": []
  }
 ],
 "metadata": {
  "kernelspec": {
   "display_name": "torch-mps",
   "language": "python",
   "name": "python3"
  },
  "language_info": {
   "codemirror_mode": {
    "name": "ipython",
    "version": 3
   },
   "file_extension": ".py",
   "mimetype": "text/x-python",
   "name": "python",
   "nbconvert_exporter": "python",
   "pygments_lexer": "ipython3",
   "version": "3.10.13"
  }
 },
 "nbformat": 4,
 "nbformat_minor": 2
}
