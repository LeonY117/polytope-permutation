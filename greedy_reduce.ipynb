{
 "cells": [
  {
   "cell_type": "markdown",
   "metadata": {},
   "source": [
    "### Greedy algorithm for reducing redundant moves"
   ]
  },
  {
   "cell_type": "code",
   "execution_count": 2,
   "metadata": {},
   "outputs": [],
   "source": [
    "import json\n",
    "import copy\n",
    "\n",
    "import numpy as np\n",
    "import pandas as pd\n",
    "from collections import Counter\n",
    "\n",
    "import matplotlib.pyplot as plt\n",
    "from tqdm import tqdm"
   ]
  },
  {
   "cell_type": "code",
   "execution_count": 3,
   "metadata": {},
   "outputs": [
    {
     "name": "stdout",
     "output_type": "stream",
     "text": [
      "(('cube_2/2/2', 0), ['r1', '-f1'])\n"
     ]
    }
   ],
   "source": [
    "# load sample solutions\n",
    "sample_submission_arr = pd.read_csv(\"./puzzles/sample_submission.csv\").to_numpy()\n",
    "# load all the puzzle's start and end positions\n",
    "puzzles_arr = pd.read_csv(\"./puzzles/puzzles.csv\").to_numpy()\n",
    "\n",
    "puzzle_solutions = {}\n",
    "\n",
    "for puzzle, solution in zip(puzzles_arr, sample_submission_arr):\n",
    "    puzzle_name = puzzle[1]\n",
    "    idx = puzzle[0]\n",
    "    steps = solution[1].split(\".\")\n",
    "    puzzle_solutions[(puzzle_name, idx)] = steps\n",
    "\n",
    "print(list(puzzle_solutions.items())[0])"
   ]
  },
  {
   "cell_type": "code",
   "execution_count": 4,
   "metadata": {},
   "outputs": [
    {
     "name": "stdout",
     "output_type": "stream",
     "text": [
      "['-f0', 'f1']\n"
     ]
    }
   ],
   "source": [
    "# some low hanging fruits are:\n",
    "# cancel pairs of inverses, e.g. (f0, -f0)\n",
    "# cancel 4 rotations\n",
    "# change 3 rotations to 1 rotation e.g. (f0, f0, f0 == -f0)\n",
    "\n",
    "\n",
    "def get_inverse_move(move_name):\n",
    "    if move_name.startswith(\"-\"):\n",
    "        return move_name[1:]\n",
    "    else:\n",
    "        return f\"-{move_name}\"\n",
    "\n",
    "\n",
    "def reduce_subsequence(subsequence):\n",
    "    \"\"\"Given a subsequence of parallel moves, return the reduced moves\"\"\"\n",
    "    subsequence.sort()\n",
    "\n",
    "    out = []\n",
    "    curr_count, curr_move = 0, \"\"\n",
    "    # reduce 3 or 4 in a row:\n",
    "    for move in subsequence + [\"x\"]:\n",
    "        # a dummy item 'x' to make loop run once more for leftover items\n",
    "        if move != curr_move:\n",
    "            if curr_count == 3:\n",
    "                out.append(get_inverse_move(curr_move))\n",
    "            else:\n",
    "                out.extend([curr_move] * curr_count)\n",
    "            curr_count, curr_move = 1, move\n",
    "        elif move == curr_move:\n",
    "            curr_count += 1\n",
    "        if curr_count == 4:\n",
    "            # skip entirely, don't append to out\n",
    "            curr_count = 0\n",
    "\n",
    "    counts = Counter(out)\n",
    "\n",
    "    out = []\n",
    "    for move, count in counts.items():\n",
    "        inv_move = get_inverse_move(move)\n",
    "        inv_count = counts.get(inv_move, 0)\n",
    "        if count > inv_count:\n",
    "            out.extend([move] * (count - inv_count))\n",
    "        else:\n",
    "            out.extend([inv_move] * (inv_count - count))\n",
    "        if inv_move in counts.keys():\n",
    "            counts[inv_move] = 0\n",
    "        counts[move] = 0\n",
    "    return out\n",
    "\n",
    "def iterate_reduce_subsequence(subsequence):\n",
    "    prev = []\n",
    "    curr = subsequence\n",
    "    while prev != curr:\n",
    "        prev = curr[:]\n",
    "        curr = reduce_subsequence(curr)\n",
    "\n",
    "    return curr\n",
    "\n",
    "subsequence = [\"f0\", \"f0\", \"f0\", \"f0\", \"f1\", \"f1\", \"f1\", \"-f1\", \"-f1\", \"-f0\"]\n",
    "# subsequence = [\"f0\"]\n",
    "print(iterate_reduce_subsequence(subsequence))"
   ]
  },
  {
   "cell_type": "code",
   "execution_count": 12,
   "metadata": {},
   "outputs": [
    {
     "name": "stderr",
     "output_type": "stream",
     "text": [
      "100%|██████████| 398/398 [00:03<00:00, 108.48it/s]"
     ]
    },
    {
     "name": "stdout",
     "output_type": "stream",
     "text": [
      "1220590\n",
      "1206332\n"
     ]
    },
    {
     "name": "stderr",
     "output_type": "stream",
     "text": [
      "\n"
     ]
    }
   ],
   "source": [
    "def remove_prefix(text, prefix):\n",
    "    return text[text.startswith(prefix) and len(prefix) :]\n",
    "\n",
    "\n",
    "def reduce_sequence(sequence):\n",
    "    out = []\n",
    "    curr_face = \"\"\n",
    "    curr_subsequence = []\n",
    "    for move in sequence + [\"x\"]:\n",
    "        face = remove_prefix(move, \"-\")[0]\n",
    "        if face != curr_face:\n",
    "            out.extend(iterate_reduce_subsequence(curr_subsequence))\n",
    "            curr_subsequence = []\n",
    "        curr_face = face\n",
    "        curr_subsequence.append(move)\n",
    "\n",
    "    return out\n",
    "\n",
    "\n",
    "def iterate_reduce_sequence(sequence):\n",
    "    # return reduce_sequence(sequence)\n",
    "    prev = []\n",
    "    curr = sequence\n",
    "    while prev != curr:\n",
    "        prev = curr[:]\n",
    "        curr = reduce_sequence(curr)\n",
    "    return curr\n",
    "\n",
    "\n",
    "# iterate_reduce_sequence([\"f0\", \"f0\", \"f0\", \"f0\", \"f1\", \"f1\", \"f1\", \"-f1\", \"-f1\", \"-f0\"])\n",
    "\n",
    "old_total = 0\n",
    "new_total = 0\n",
    "\n",
    "out = []\n",
    "for puzzle, sequence in tqdm((puzzle_solutions.items())):\n",
    "    puzzle_name = puzzle[0].split(\"_\")[0]\n",
    "    idx = puzzle[1]\n",
    "\n",
    "    old_total += len(sequence)\n",
    "    if puzzle_name == \"cube\":\n",
    "        reduced_sequence = iterate_reduce_sequence(sequence)\n",
    "    else:\n",
    "        reduced_sequence = sequence\n",
    "    new_total += len(reduced_sequence)\n",
    "\n",
    "    out.append((\".\".join(reduced_sequence)))\n",
    "\n",
    "print(old_total)\n",
    "print(new_total)"
   ]
  },
  {
   "cell_type": "code",
   "execution_count": 14,
   "metadata": {},
   "outputs": [],
   "source": [
    "out_df = pd.DataFrame(out)\n",
    "out_df.to_csv('./solutions/greedy_cubes.csv')"
   ]
  },
  {
   "cell_type": "code",
   "execution_count": null,
   "metadata": {},
   "outputs": [],
   "source": []
  }
 ],
 "metadata": {
  "kernelspec": {
   "display_name": "torch-mps",
   "language": "python",
   "name": "python3"
  },
  "language_info": {
   "codemirror_mode": {
    "name": "ipython",
    "version": 3
   },
   "file_extension": ".py",
   "mimetype": "text/x-python",
   "name": "python",
   "nbconvert_exporter": "python",
   "pygments_lexer": "ipython3",
   "version": "3.10.13"
  }
 },
 "nbformat": 4,
 "nbformat_minor": 2
}
