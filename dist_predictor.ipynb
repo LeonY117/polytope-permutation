{
 "cells": [
  {
   "cell_type": "markdown",
   "metadata": {},
   "source": [
    "## Distance predictor with simple NN\n",
    "\n",
    "A simple self-supervised setting to predict the number of moves it takes to reach final position\n",
    "\n",
    "This is a starting place to check things like state space representation (does using state = [1, 2, 3, 1] work), and just generally how well NNs can approximate permutation problems.\n",
    "\n",
    "### Basic outline:\n",
    "\n",
    "- Generate a set of `n` moves by uniformly sampling from available actions, with `n` randomly sampled from some probability distribution\n",
    "- Using greedy_reduce to simplify those moves to get `n'` number of moves, $n' \\leq n$\n",
    "- Apply these `n'` moves on a puzzle to reach `start_state`\n",
    "- A network $\\mathcal{F}$ takes `start_state` as input, and the target output is `n'`\n",
    "\n",
    "### Some preliminary details\n",
    "\n",
    "- Loss function: mean square loss\n",
    "- Neural network weights: $|s| \\times 128$, $128 \\times 128$, $128 \\times 1$\n",
    "- For 2x2 puzzles, we only need up to 10 - 14 moves\n",
    "- State-space representation should be normalized?\n",
    "\n",
    "### Some hypotheses\n",
    "\n",
    "- Expecting better performance on low `n` over high `n`\n",
    "- Expecting weird things to happen at `n` > 10.\n"
   ]
  },
  {
   "cell_type": "code",
   "execution_count": null,
   "metadata": {},
   "outputs": [],
   "source": []
  },
  {
   "cell_type": "code",
   "execution_count": null,
   "metadata": {},
   "outputs": [],
   "source": []
  },
  {
   "cell_type": "code",
   "execution_count": null,
   "metadata": {},
   "outputs": [],
   "source": []
  }
 ],
 "metadata": {
  "language_info": {
   "name": "python"
  }
 },
 "nbformat": 4,
 "nbformat_minor": 2
}
