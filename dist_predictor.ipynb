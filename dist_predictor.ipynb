{
 "cells": [
  {
   "cell_type": "markdown",
   "metadata": {},
   "source": [
    "## Distance predictor with simple NN\n",
    "\n",
    "A simple self-supervised setting to predict the number of moves it takes to reach final position\n",
    "\n",
    "This is a starting place to check things like state space representation (does using state = [1, 2, 3, 1] work), and just generally how well NNs can approximate permutation problems.\n",
    "\n",
    "### Basic outline:\n",
    "\n",
    "- Generate a set of `n` moves by uniformly sampling from available actions, with `n` randomly sampled from some probability distribution\n",
    "- Using greedy_reduce to simplify those moves to get `n'` number of moves, $n' \\leq n$\n",
    "- Apply these `n'` moves on a puzzle to reach `start_state`\n",
    "- A network $\\mathcal{F}$ takes `start_state` as input, and the target output is `n'`\n",
    "\n",
    "### Some preliminary details\n",
    "\n",
    "- Loss function: mean square loss\n",
    "- Neural network weights: $|s| \\times 128$, $128 \\times 128$, $128 \\times 1$\n",
    "- For 2x2 puzzles, we only need up to 10 - 14 moves\n",
    "- State-space representation should be normalized?\n",
    "\n",
    "### Some hypotheses\n",
    "\n",
    "- Expecting better performance on low `n` over high `n`\n",
    "- Expecting weird things to happen at `n` > 10.\n"
   ]
  },
  {
   "cell_type": "code",
   "execution_count": 37,
   "metadata": {},
   "outputs": [
    {
     "name": "stdout",
     "output_type": "stream",
     "text": [
      "Pretty printing has been turned OFF\n"
     ]
    }
   ],
   "source": [
    "import json\n",
    "from typing import Dict, List\n",
    "from collections import OrderedDict\n",
    "\n",
    "import numpy as np\n",
    "\n",
    "%pprint"
   ]
  },
  {
   "cell_type": "code",
   "execution_count": 63,
   "metadata": {},
   "outputs": [],
   "source": [
    "from src.mechanism.permute import reverse_perm, permute_with_swap, perm_to_swap\n",
    "from src.mechanism.utils import get_inverse_move\n",
    "from src.mechanism.reduce import iterate_reduce_sequence"
   ]
  },
  {
   "cell_type": "markdown",
   "metadata": {},
   "source": [
    "### Load a puzzle \n",
    "Since each puzzle is trained separately "
   ]
  },
  {
   "cell_type": "code",
   "execution_count": 58,
   "metadata": {},
   "outputs": [
    {
     "name": "stdout",
     "output_type": "stream",
     "text": [
      "Loaded cube_2x2x2 with 12 moves and 24 states\n"
     ]
    }
   ],
   "source": [
    "def load_puzzle_moves(\n",
    "    puzzle_name: str, convert_to_swaps=True\n",
    ") -> (Dict[str, List[int]], int):\n",
    "    \"\"\"Retrieves and returns the moves and final position of the puzzle\"\"\"\n",
    "    # load the moves:\n",
    "    with open(f\"puzzles/{puzzle_name}/moves.json\") as f:\n",
    "        moves = json.load(f)\n",
    "\n",
    "    num_states = len(list(moves.values())[0])\n",
    "    # add reversed moves\n",
    "    reversed_moves = {}\n",
    "    for move_name, perm in moves.items():\n",
    "        reversed_perm = reverse_perm(perm)\n",
    "        if reversed_perm == perm:\n",
    "            continue\n",
    "        reversed_moves[f\"-{move_name}\"] = reversed_perm\n",
    "\n",
    "    moves.update(reversed_moves)\n",
    "\n",
    "    if convert_to_swaps:\n",
    "        for move_name, perm in moves.items():\n",
    "            moves[move_name] = perm_to_swap(perm)\n",
    "\n",
    "    # # get final position (from the first puzzle), note that the actual state of this position doesn't really matter\n",
    "    # # we just need to get the structure of the puzzle\n",
    "    # df = pd.read_csv(f'puzzles/{puzzle_name}/puzzles.csv')\n",
    "    # state = df.iloc[0].to_numpy()[3]\n",
    "\n",
    "    return moves, num_states\n",
    "\n",
    "\n",
    "puzzle_name = \"cube_2x2x2\"\n",
    "move_dict, num_states = load_puzzle_moves(puzzle_name)\n",
    "\n",
    "move_names = list(move_dict.keys())\n",
    "\n",
    "final_state = list(range(num_states))\n",
    "\n",
    "print(f\"Loaded {puzzle_name} with {len(move_names)} moves and {num_states} states\")"
   ]
  },
  {
   "cell_type": "markdown",
   "metadata": {},
   "source": [
    "### Data generation\n",
    "\n",
    "The self-supervised part: Generate a set of `n` moves by uniformly sampling from available actions, with `n` randomly sampled from some probability distribution"
   ]
  },
  {
   "cell_type": "code",
   "execution_count": 86,
   "metadata": {},
   "outputs": [
    {
     "name": "stdout",
     "output_type": "stream",
     "text": [
      "['r0', 'r1', '-f0', '-d0', 'r0']\n",
      "['r0', 'r1', '-f0', '-d0', 'r0']\n"
     ]
    },
    {
     "data": {
      "text/plain": [
       "[4, 23, 10, 9, 21, 12, 15, 13, 1, 14, 0, 8, 11, 2, 5, 6, 17, 7, 20, 22, 18, 16, 19, 3]"
      ]
     },
     "execution_count": 86,
     "metadata": {},
     "output_type": "execute_result"
    }
   ],
   "source": [
    "def sample_moves(move_names: List[str], n: int) -> List[int]:\n",
    "    return np.random.choice(move_names, n)\n",
    "\n",
    "\n",
    "def generate_state_from_moves(move_names, move_dict, state, inverse=False):\n",
    "    for move_name in move_names:\n",
    "        if inverse:\n",
    "            move_name = get_inverse_move(move_name)\n",
    "        move = move_dict[move_name]\n",
    "        state = permute_with_swap(state, move)\n",
    "\n",
    "    return state\n",
    "\n",
    "\n",
    "path = sample_moves(move_names, 5)\n",
    "\n",
    "print(list(path))\n",
    "\n",
    "path = iterate_reduce_sequence(list(path), puzzle_name)\n",
    "print(path)\n",
    "\n",
    "generate_state_from_moves(path, move_dict, final_state)"
   ]
  },
  {
   "cell_type": "code",
   "execution_count": null,
   "metadata": {},
   "outputs": [],
   "source": []
  }
 ],
 "metadata": {
  "kernelspec": {
   "display_name": "torch-mps",
   "language": "python",
   "name": "python3"
  },
  "language_info": {
   "codemirror_mode": {
    "name": "ipython",
    "version": 3
   },
   "file_extension": ".py",
   "mimetype": "text/x-python",
   "name": "python",
   "nbconvert_exporter": "python",
   "pygments_lexer": "ipython3",
   "version": "3.10.13"
  }
 },
 "nbformat": 4,
 "nbformat_minor": 2
}
